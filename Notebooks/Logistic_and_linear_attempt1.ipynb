{
  "nbformat": 4,
  "nbformat_minor": 0,
  "metadata": {
    "colab": {
      "provenance": []
    },
    "kernelspec": {
      "name": "python3",
      "display_name": "Python 3"
    },
    "language_info": {
      "name": "python"
    },
    "gpuClass": "standard"
  },
  "cells": [
    {
      "cell_type": "code",
      "source": [
        "import numpy as np\n",
        "import pandas as pd\n",
        "import copy"
      ],
      "metadata": {
        "id": "7cApbrvlXoHN"
      },
      "execution_count": null,
      "outputs": []
    },
    {
      "cell_type": "code",
      "source": [
        "df = pd.read_csv('/content/drive/MyDrive/cyberlab/classification_train.csv')\n",
        "train = df.sample(frac=0.8, random_state = 42)\n",
        "valid = df.drop(train.index)\n",
        "df = train\n",
        "\n",
        "valid_y = valid[\"label\"].values\n",
        "valid = valid.values\n",
        "valid_x = valid[:, 2:]"
      ],
      "metadata": {
        "id": "rQ9EzwDIXoD_"
      },
      "execution_count": null,
      "outputs": []
    },
    {
      "cell_type": "code",
      "source": [
        "df.drop(labels = 'Unnamed: 0', axis=1)"
      ],
      "metadata": {
        "colab": {
          "base_uri": "https://localhost:8080/",
          "height": 483
        },
        "id": "VhMQioCtXn6P",
        "outputId": "74ee6c5b-af04-4f8f-8e60-1221d6824fe8"
      },
      "execution_count": null,
      "outputs": [
        {
          "output_type": "execute_result",
          "data": {
            "text/plain": [
              "       label  pixel1  pixel2  pixel3  pixel4  pixel5  pixel6  pixel7  pixel8  \\\n",
              "2308       4       0       0       0       0       4       0       1       1   \n",
              "22404      4       0       0       0       0       0       0       0       0   \n",
              "23397      0       0       0       0       0       0       0       1       0   \n",
              "25058      4       0       0       0       0       0       0       0       0   \n",
              "2664       6       0       0       0       0       0       0       0       1   \n",
              "...      ...     ...     ...     ...     ...     ...     ...     ...     ...   \n",
              "27994      6       0       0       0       0       0       0       0       2   \n",
              "10938      9       0       0       0       0       0       0       0       0   \n",
              "24792      3       0       0       0       0       0       0       0       0   \n",
              "24890      2       0       0       0       0       0       0       0       0   \n",
              "314        7       0       0       0       0       0       0       0       0   \n",
              "\n",
              "       pixel9  ...  pixel775  pixel776  pixel777  pixel778  pixel779  \\\n",
              "2308        0  ...         1         0         0         7        15   \n",
              "22404       0  ...         0         0         0       131       124   \n",
              "23397       0  ...        15         4         3         0         0   \n",
              "25058       0  ...         0         0         0        39        83   \n",
              "2664        0  ...         0         0         0         0        97   \n",
              "...       ...  ...       ...       ...       ...       ...       ...   \n",
              "27994       0  ...       100        42         0         0         0   \n",
              "10938       0  ...         0         0         0         0         0   \n",
              "24792       0  ...        52         3         0         0         0   \n",
              "24890       0  ...       176       187       223         7         0   \n",
              "314         0  ...         0         0         0         0         0   \n",
              "\n",
              "       pixel780  pixel781  pixel782  pixel783  pixel784  \n",
              "2308          0         0         0         0         0  \n",
              "22404        26         0         0         0         0  \n",
              "23397         0         0         0         0         0  \n",
              "25058        85        48         0         0         0  \n",
              "2664        121        37         0         0         0  \n",
              "...         ...       ...       ...       ...       ...  \n",
              "27994         0         0         0         0         0  \n",
              "10938         0         0         0         0         0  \n",
              "24792         0         0         0         0         0  \n",
              "24890         0         0         0         0         0  \n",
              "314           0         0         0         0         0  \n",
              "\n",
              "[24000 rows x 785 columns]"
            ],
            "text/html": [
              "\n",
              "  <div id=\"df-c93beabb-1fc0-487c-b53e-9dcbfd74873e\">\n",
              "    <div class=\"colab-df-container\">\n",
              "      <div>\n",
              "<style scoped>\n",
              "    .dataframe tbody tr th:only-of-type {\n",
              "        vertical-align: middle;\n",
              "    }\n",
              "\n",
              "    .dataframe tbody tr th {\n",
              "        vertical-align: top;\n",
              "    }\n",
              "\n",
              "    .dataframe thead th {\n",
              "        text-align: right;\n",
              "    }\n",
              "</style>\n",
              "<table border=\"1\" class=\"dataframe\">\n",
              "  <thead>\n",
              "    <tr style=\"text-align: right;\">\n",
              "      <th></th>\n",
              "      <th>label</th>\n",
              "      <th>pixel1</th>\n",
              "      <th>pixel2</th>\n",
              "      <th>pixel3</th>\n",
              "      <th>pixel4</th>\n",
              "      <th>pixel5</th>\n",
              "      <th>pixel6</th>\n",
              "      <th>pixel7</th>\n",
              "      <th>pixel8</th>\n",
              "      <th>pixel9</th>\n",
              "      <th>...</th>\n",
              "      <th>pixel775</th>\n",
              "      <th>pixel776</th>\n",
              "      <th>pixel777</th>\n",
              "      <th>pixel778</th>\n",
              "      <th>pixel779</th>\n",
              "      <th>pixel780</th>\n",
              "      <th>pixel781</th>\n",
              "      <th>pixel782</th>\n",
              "      <th>pixel783</th>\n",
              "      <th>pixel784</th>\n",
              "    </tr>\n",
              "  </thead>\n",
              "  <tbody>\n",
              "    <tr>\n",
              "      <th>2308</th>\n",
              "      <td>4</td>\n",
              "      <td>0</td>\n",
              "      <td>0</td>\n",
              "      <td>0</td>\n",
              "      <td>0</td>\n",
              "      <td>4</td>\n",
              "      <td>0</td>\n",
              "      <td>1</td>\n",
              "      <td>1</td>\n",
              "      <td>0</td>\n",
              "      <td>...</td>\n",
              "      <td>1</td>\n",
              "      <td>0</td>\n",
              "      <td>0</td>\n",
              "      <td>7</td>\n",
              "      <td>15</td>\n",
              "      <td>0</td>\n",
              "      <td>0</td>\n",
              "      <td>0</td>\n",
              "      <td>0</td>\n",
              "      <td>0</td>\n",
              "    </tr>\n",
              "    <tr>\n",
              "      <th>22404</th>\n",
              "      <td>4</td>\n",
              "      <td>0</td>\n",
              "      <td>0</td>\n",
              "      <td>0</td>\n",
              "      <td>0</td>\n",
              "      <td>0</td>\n",
              "      <td>0</td>\n",
              "      <td>0</td>\n",
              "      <td>0</td>\n",
              "      <td>0</td>\n",
              "      <td>...</td>\n",
              "      <td>0</td>\n",
              "      <td>0</td>\n",
              "      <td>0</td>\n",
              "      <td>131</td>\n",
              "      <td>124</td>\n",
              "      <td>26</td>\n",
              "      <td>0</td>\n",
              "      <td>0</td>\n",
              "      <td>0</td>\n",
              "      <td>0</td>\n",
              "    </tr>\n",
              "    <tr>\n",
              "      <th>23397</th>\n",
              "      <td>0</td>\n",
              "      <td>0</td>\n",
              "      <td>0</td>\n",
              "      <td>0</td>\n",
              "      <td>0</td>\n",
              "      <td>0</td>\n",
              "      <td>0</td>\n",
              "      <td>1</td>\n",
              "      <td>0</td>\n",
              "      <td>0</td>\n",
              "      <td>...</td>\n",
              "      <td>15</td>\n",
              "      <td>4</td>\n",
              "      <td>3</td>\n",
              "      <td>0</td>\n",
              "      <td>0</td>\n",
              "      <td>0</td>\n",
              "      <td>0</td>\n",
              "      <td>0</td>\n",
              "      <td>0</td>\n",
              "      <td>0</td>\n",
              "    </tr>\n",
              "    <tr>\n",
              "      <th>25058</th>\n",
              "      <td>4</td>\n",
              "      <td>0</td>\n",
              "      <td>0</td>\n",
              "      <td>0</td>\n",
              "      <td>0</td>\n",
              "      <td>0</td>\n",
              "      <td>0</td>\n",
              "      <td>0</td>\n",
              "      <td>0</td>\n",
              "      <td>0</td>\n",
              "      <td>...</td>\n",
              "      <td>0</td>\n",
              "      <td>0</td>\n",
              "      <td>0</td>\n",
              "      <td>39</td>\n",
              "      <td>83</td>\n",
              "      <td>85</td>\n",
              "      <td>48</td>\n",
              "      <td>0</td>\n",
              "      <td>0</td>\n",
              "      <td>0</td>\n",
              "    </tr>\n",
              "    <tr>\n",
              "      <th>2664</th>\n",
              "      <td>6</td>\n",
              "      <td>0</td>\n",
              "      <td>0</td>\n",
              "      <td>0</td>\n",
              "      <td>0</td>\n",
              "      <td>0</td>\n",
              "      <td>0</td>\n",
              "      <td>0</td>\n",
              "      <td>1</td>\n",
              "      <td>0</td>\n",
              "      <td>...</td>\n",
              "      <td>0</td>\n",
              "      <td>0</td>\n",
              "      <td>0</td>\n",
              "      <td>0</td>\n",
              "      <td>97</td>\n",
              "      <td>121</td>\n",
              "      <td>37</td>\n",
              "      <td>0</td>\n",
              "      <td>0</td>\n",
              "      <td>0</td>\n",
              "    </tr>\n",
              "    <tr>\n",
              "      <th>...</th>\n",
              "      <td>...</td>\n",
              "      <td>...</td>\n",
              "      <td>...</td>\n",
              "      <td>...</td>\n",
              "      <td>...</td>\n",
              "      <td>...</td>\n",
              "      <td>...</td>\n",
              "      <td>...</td>\n",
              "      <td>...</td>\n",
              "      <td>...</td>\n",
              "      <td>...</td>\n",
              "      <td>...</td>\n",
              "      <td>...</td>\n",
              "      <td>...</td>\n",
              "      <td>...</td>\n",
              "      <td>...</td>\n",
              "      <td>...</td>\n",
              "      <td>...</td>\n",
              "      <td>...</td>\n",
              "      <td>...</td>\n",
              "      <td>...</td>\n",
              "    </tr>\n",
              "    <tr>\n",
              "      <th>27994</th>\n",
              "      <td>6</td>\n",
              "      <td>0</td>\n",
              "      <td>0</td>\n",
              "      <td>0</td>\n",
              "      <td>0</td>\n",
              "      <td>0</td>\n",
              "      <td>0</td>\n",
              "      <td>0</td>\n",
              "      <td>2</td>\n",
              "      <td>0</td>\n",
              "      <td>...</td>\n",
              "      <td>100</td>\n",
              "      <td>42</td>\n",
              "      <td>0</td>\n",
              "      <td>0</td>\n",
              "      <td>0</td>\n",
              "      <td>0</td>\n",
              "      <td>0</td>\n",
              "      <td>0</td>\n",
              "      <td>0</td>\n",
              "      <td>0</td>\n",
              "    </tr>\n",
              "    <tr>\n",
              "      <th>10938</th>\n",
              "      <td>9</td>\n",
              "      <td>0</td>\n",
              "      <td>0</td>\n",
              "      <td>0</td>\n",
              "      <td>0</td>\n",
              "      <td>0</td>\n",
              "      <td>0</td>\n",
              "      <td>0</td>\n",
              "      <td>0</td>\n",
              "      <td>0</td>\n",
              "      <td>...</td>\n",
              "      <td>0</td>\n",
              "      <td>0</td>\n",
              "      <td>0</td>\n",
              "      <td>0</td>\n",
              "      <td>0</td>\n",
              "      <td>0</td>\n",
              "      <td>0</td>\n",
              "      <td>0</td>\n",
              "      <td>0</td>\n",
              "      <td>0</td>\n",
              "    </tr>\n",
              "    <tr>\n",
              "      <th>24792</th>\n",
              "      <td>3</td>\n",
              "      <td>0</td>\n",
              "      <td>0</td>\n",
              "      <td>0</td>\n",
              "      <td>0</td>\n",
              "      <td>0</td>\n",
              "      <td>0</td>\n",
              "      <td>0</td>\n",
              "      <td>0</td>\n",
              "      <td>0</td>\n",
              "      <td>...</td>\n",
              "      <td>52</td>\n",
              "      <td>3</td>\n",
              "      <td>0</td>\n",
              "      <td>0</td>\n",
              "      <td>0</td>\n",
              "      <td>0</td>\n",
              "      <td>0</td>\n",
              "      <td>0</td>\n",
              "      <td>0</td>\n",
              "      <td>0</td>\n",
              "    </tr>\n",
              "    <tr>\n",
              "      <th>24890</th>\n",
              "      <td>2</td>\n",
              "      <td>0</td>\n",
              "      <td>0</td>\n",
              "      <td>0</td>\n",
              "      <td>0</td>\n",
              "      <td>0</td>\n",
              "      <td>0</td>\n",
              "      <td>0</td>\n",
              "      <td>0</td>\n",
              "      <td>0</td>\n",
              "      <td>...</td>\n",
              "      <td>176</td>\n",
              "      <td>187</td>\n",
              "      <td>223</td>\n",
              "      <td>7</td>\n",
              "      <td>0</td>\n",
              "      <td>0</td>\n",
              "      <td>0</td>\n",
              "      <td>0</td>\n",
              "      <td>0</td>\n",
              "      <td>0</td>\n",
              "    </tr>\n",
              "    <tr>\n",
              "      <th>314</th>\n",
              "      <td>7</td>\n",
              "      <td>0</td>\n",
              "      <td>0</td>\n",
              "      <td>0</td>\n",
              "      <td>0</td>\n",
              "      <td>0</td>\n",
              "      <td>0</td>\n",
              "      <td>0</td>\n",
              "      <td>0</td>\n",
              "      <td>0</td>\n",
              "      <td>...</td>\n",
              "      <td>0</td>\n",
              "      <td>0</td>\n",
              "      <td>0</td>\n",
              "      <td>0</td>\n",
              "      <td>0</td>\n",
              "      <td>0</td>\n",
              "      <td>0</td>\n",
              "      <td>0</td>\n",
              "      <td>0</td>\n",
              "      <td>0</td>\n",
              "    </tr>\n",
              "  </tbody>\n",
              "</table>\n",
              "<p>24000 rows × 785 columns</p>\n",
              "</div>\n",
              "      <button class=\"colab-df-convert\" onclick=\"convertToInteractive('df-c93beabb-1fc0-487c-b53e-9dcbfd74873e')\"\n",
              "              title=\"Convert this dataframe to an interactive table.\"\n",
              "              style=\"display:none;\">\n",
              "        \n",
              "  <svg xmlns=\"http://www.w3.org/2000/svg\" height=\"24px\"viewBox=\"0 0 24 24\"\n",
              "       width=\"24px\">\n",
              "    <path d=\"M0 0h24v24H0V0z\" fill=\"none\"/>\n",
              "    <path d=\"M18.56 5.44l.94 2.06.94-2.06 2.06-.94-2.06-.94-.94-2.06-.94 2.06-2.06.94zm-11 1L8.5 8.5l.94-2.06 2.06-.94-2.06-.94L8.5 2.5l-.94 2.06-2.06.94zm10 10l.94 2.06.94-2.06 2.06-.94-2.06-.94-.94-2.06-.94 2.06-2.06.94z\"/><path d=\"M17.41 7.96l-1.37-1.37c-.4-.4-.92-.59-1.43-.59-.52 0-1.04.2-1.43.59L10.3 9.45l-7.72 7.72c-.78.78-.78 2.05 0 2.83L4 21.41c.39.39.9.59 1.41.59.51 0 1.02-.2 1.41-.59l7.78-7.78 2.81-2.81c.8-.78.8-2.07 0-2.86zM5.41 20L4 18.59l7.72-7.72 1.47 1.35L5.41 20z\"/>\n",
              "  </svg>\n",
              "      </button>\n",
              "      \n",
              "  <style>\n",
              "    .colab-df-container {\n",
              "      display:flex;\n",
              "      flex-wrap:wrap;\n",
              "      gap: 12px;\n",
              "    }\n",
              "\n",
              "    .colab-df-convert {\n",
              "      background-color: #E8F0FE;\n",
              "      border: none;\n",
              "      border-radius: 50%;\n",
              "      cursor: pointer;\n",
              "      display: none;\n",
              "      fill: #1967D2;\n",
              "      height: 32px;\n",
              "      padding: 0 0 0 0;\n",
              "      width: 32px;\n",
              "    }\n",
              "\n",
              "    .colab-df-convert:hover {\n",
              "      background-color: #E2EBFA;\n",
              "      box-shadow: 0px 1px 2px rgba(60, 64, 67, 0.3), 0px 1px 3px 1px rgba(60, 64, 67, 0.15);\n",
              "      fill: #174EA6;\n",
              "    }\n",
              "\n",
              "    [theme=dark] .colab-df-convert {\n",
              "      background-color: #3B4455;\n",
              "      fill: #D2E3FC;\n",
              "    }\n",
              "\n",
              "    [theme=dark] .colab-df-convert:hover {\n",
              "      background-color: #434B5C;\n",
              "      box-shadow: 0px 1px 3px 1px rgba(0, 0, 0, 0.15);\n",
              "      filter: drop-shadow(0px 1px 2px rgba(0, 0, 0, 0.3));\n",
              "      fill: #FFFFFF;\n",
              "    }\n",
              "  </style>\n",
              "\n",
              "      <script>\n",
              "        const buttonEl =\n",
              "          document.querySelector('#df-c93beabb-1fc0-487c-b53e-9dcbfd74873e button.colab-df-convert');\n",
              "        buttonEl.style.display =\n",
              "          google.colab.kernel.accessAllowed ? 'block' : 'none';\n",
              "\n",
              "        async function convertToInteractive(key) {\n",
              "          const element = document.querySelector('#df-c93beabb-1fc0-487c-b53e-9dcbfd74873e');\n",
              "          const dataTable =\n",
              "            await google.colab.kernel.invokeFunction('convertToInteractive',\n",
              "                                                     [key], {});\n",
              "          if (!dataTable) return;\n",
              "\n",
              "          const docLinkHtml = 'Like what you see? Visit the ' +\n",
              "            '<a target=\"_blank\" href=https://colab.research.google.com/notebooks/data_table.ipynb>data table notebook</a>'\n",
              "            + ' to learn more about interactive tables.';\n",
              "          element.innerHTML = '';\n",
              "          dataTable['output_type'] = 'display_data';\n",
              "          await google.colab.output.renderOutput(dataTable, element);\n",
              "          const docLink = document.createElement('div');\n",
              "          docLink.innerHTML = docLinkHtml;\n",
              "          element.appendChild(docLink);\n",
              "        }\n",
              "      </script>\n",
              "    </div>\n",
              "  </div>\n",
              "  "
            ]
          },
          "metadata": {},
          "execution_count": 16
        }
      ]
    },
    {
      "cell_type": "code",
      "source": [
        "df = df.values"
      ],
      "metadata": {
        "id": "ElK3NVDIXnxl"
      },
      "execution_count": null,
      "outputs": []
    },
    {
      "cell_type": "code",
      "source": [
        "x = df[:, 2:]\n",
        "x"
      ],
      "metadata": {
        "colab": {
          "base_uri": "https://localhost:8080/"
        },
        "id": "G6ELdQbMXnjQ",
        "outputId": "d5e768c1-253d-4cae-ed28-265d55417318"
      },
      "execution_count": null,
      "outputs": [
        {
          "output_type": "execute_result",
          "data": {
            "text/plain": [
              "array([[0, 0, 0, ..., 0, 0, 0],\n",
              "       [0, 0, 0, ..., 0, 0, 0],\n",
              "       [0, 0, 0, ..., 0, 0, 0],\n",
              "       ...,\n",
              "       [0, 0, 0, ..., 0, 0, 0],\n",
              "       [0, 0, 0, ..., 0, 0, 0],\n",
              "       [0, 0, 0, ..., 0, 0, 0]])"
            ]
          },
          "metadata": {},
          "execution_count": 18
        }
      ]
    },
    {
      "cell_type": "code",
      "source": [
        "y = df[:, 1]\n",
        "y"
      ],
      "metadata": {
        "colab": {
          "base_uri": "https://localhost:8080/"
        },
        "id": "AGFljEDDcMYc",
        "outputId": "4e9cc4ae-ffc2-49bd-d769-517ba5107831"
      },
      "execution_count": null,
      "outputs": [
        {
          "output_type": "execute_result",
          "data": {
            "text/plain": [
              "array([4, 4, 0, ..., 3, 2, 7])"
            ]
          },
          "metadata": {},
          "execution_count": 19
        }
      ]
    },
    {
      "cell_type": "markdown",
      "source": [
        "# Logistic Final"
      ],
      "metadata": {
        "id": "BtnxIQqmGPoD"
      }
    },
    {
      "cell_type": "code",
      "source": [
        "import numpy as np\n",
        "import pandas as pd\n",
        "import math\n",
        "import copy\n",
        "\n",
        "df = pd.read_csv('/content/drive/MyDrive/cyberlab/classification_train.csv')\n",
        "test = pd.read_csv('/content/drive/MyDrive/cyberlab/classification_test.csv')\n",
        "#train = df.sample(frac=0.8, random_state = 4)\n",
        "#valid = test.drop(train.index)\n",
        "#df = train\n",
        "ids = test[[\"ids\"]].values\n",
        "ids = ids.reshape(ids.shape[0], 1)\n",
        "test = test.values\n",
        "#valid_y = valid[\"label\"].values\n",
        "#valid = valid.values\n",
        "valid_x = test[:, 1:]\n",
        "\n",
        "df = df.values\n",
        "\n",
        "x = df[:, 2:]\n",
        "\n",
        "y = df[:, 1]\n",
        "\n",
        "def sigmoid(z):\n",
        "  return (1/(1 + np.exp(-z)))\n",
        "\n",
        "def normalize(X):\n",
        "    mu = X.mean(0)\n",
        "    std = X.std(0)\n",
        "    return (X - mu) / std, mu, std\n",
        "\n",
        "def parameters(x, y, alpha, y1, model):\n",
        "  w = np.zeros(x.shape[1])\n",
        "  b = 0\n",
        "  for i in range(1000):  #inter\n",
        "    if model == 9:\n",
        "      alpha = 0.005\n",
        "    z = np.dot(x, w) + b\n",
        "    p = sigmoid(z)\n",
        "\n",
        "    dw = (1/x.shape[0]) * np.dot(x.T , (p - y))\n",
        "    db = (1/x.shape[0]) * np.sum(p - y)\n",
        "\n",
        "    w = w - alpha * dw\n",
        "    b = b - alpha * db\n",
        "#    if i%200==0:\n",
        "#      print(cost(y1, z))\n",
        "  return w, b\n",
        "\n",
        "\n",
        "def accuracy(p, t):\n",
        "  return np.sum(p==t)/len(t)\n",
        "\n",
        "def cost(y, z):\n",
        "  return -1*(1/y.shape[0]) * np.sum(y * np.log(sigmoid(z)) + (1 - y) * np.log(1 - sigmoid(z)))\n",
        "\n",
        "x,m,s = normalize(x)\n",
        "valid_x,h,j = normalize(valid_x)\n",
        "#Models\n",
        "\n",
        "par = np.zeros((10, x.shape[1] + 1))\n",
        "prob = np.zeros((valid_x.shape[0], 10))   ####\n",
        "\n",
        "for j in range(10):\n",
        "  y1 = copy.copy(y)\n",
        "  #valid_y1 = copy.copy(valid_y)\n",
        "  \n",
        "  for i in range(y.shape[0]):\n",
        "    if y1[i] == j:\n",
        "      y1[i] = 1\n",
        "    else:\n",
        "      y1[i] = 0\n",
        "  '''\n",
        "  for i in range(valid_y.shape[0]):\n",
        "    if valid_y1[i] == j:\n",
        "      valid_y1[i] = 1\n",
        "    else:\n",
        "      valid_y1[i] = 0\n",
        "  '''\n",
        "  print(\"model: \", j)\n",
        "  w, b = parameters(x, y1, 0.01, y1, j)  #alpha  ####\n",
        "  par[j][:par.shape[1]-1] = w\n",
        "  par[j][-1] = b\n",
        "  z = np.dot(valid_x, w) + b    ####\n",
        "  p = sigmoid(z)\n",
        "  prob[:, j] = p\n",
        "\n",
        "res = np.zeros(valid_x.shape[0])    ####\n",
        "for i in range(prob.shape[0]):\n",
        "  res[i] = np.argmax(prob[i])\n",
        "\n",
        "print(accuracy(res, y))   ####\n",
        "res = res.reshape(res.shape[0], 1)\n",
        "#output = np.concatenate((ids, res), 1)\n",
        "\n"
      ],
      "metadata": {
        "id": "xjv3-tjRcP62",
        "colab": {
          "base_uri": "https://localhost:8080/"
        },
        "outputId": "d7ae7621-24e4-4781-e456-a5d88c9baf0e"
      },
      "execution_count": null,
      "outputs": [
        {
          "output_type": "stream",
          "name": "stdout",
          "text": [
            "model:  0\n",
            "model:  1\n",
            "model:  2\n",
            "model:  3\n",
            "model:  4\n",
            "model:  5\n",
            "model:  6\n",
            "model:  7\n",
            "model:  8\n",
            "model:  9\n",
            "0.0\n"
          ]
        },
        {
          "output_type": "stream",
          "name": "stderr",
          "text": [
            "<ipython-input-1-f7c4d36bb77b>:52: DeprecationWarning: elementwise comparison failed; this will raise an error in the future.\n",
            "  return np.sum(p==t)/len(t)\n"
          ]
        }
      ]
    },
    {
      "cell_type": "code",
      "source": [
        "prob.shape"
      ],
      "metadata": {
        "colab": {
          "base_uri": "https://localhost:8080/"
        },
        "id": "NsUDWdfAmLCG",
        "outputId": "e630a15e-0c5c-402b-dbdd-0f37e1e75b84"
      },
      "execution_count": null,
      "outputs": [
        {
          "output_type": "execute_result",
          "data": {
            "text/plain": [
              "(10000, 10)"
            ]
          },
          "metadata": {},
          "execution_count": 21
        }
      ]
    },
    {
      "cell_type": "code",
      "source": [
        "res1 = res.T[0]\n",
        "ids1 = ids.T[0]\n",
        "\n",
        "outputDict = {\n",
        "    'Ids': list(ids1),\n",
        "    'Result': list(res1)\n",
        "}\n",
        "\n",
        "outputDictdf = pd.DataFrame(outputDict)\n",
        "\n",
        "outputDictdf.to_csv(\"LogisticRegressionOutputPandas.csv\")\n",
        "\n",
        "# outputDictdf\n",
        "\n",
        "# res1, ids1"
      ],
      "metadata": {
        "id": "6m9FPUGMu6kk"
      },
      "execution_count": null,
      "outputs": []
    },
    {
      "cell_type": "code",
      "source": [],
      "metadata": {
        "id": "i2JfaVU4u6ep"
      },
      "execution_count": null,
      "outputs": []
    },
    {
      "cell_type": "code",
      "source": [
        "a = np.array([\n",
        "    [1],\n",
        "    [2],\n",
        "    [3],\n",
        "    [4]\n",
        "])\n",
        "\n",
        "a.reshape(1, 4), a.T[0]"
      ],
      "metadata": {
        "colab": {
          "base_uri": "https://localhost:8080/"
        },
        "id": "Le-aYHOkvXhV",
        "outputId": "11070e58-6f36-44b5-b3a5-a3304a7bae5d"
      },
      "execution_count": null,
      "outputs": [
        {
          "output_type": "execute_result",
          "data": {
            "text/plain": [
              "(array([[1, 2, 3, 4]]), array([1, 2, 3, 4]))"
            ]
          },
          "metadata": {},
          "execution_count": 28
        }
      ]
    },
    {
      "cell_type": "code",
      "source": [],
      "metadata": {
        "id": "1Nu_xX0GvXdt"
      },
      "execution_count": null,
      "outputs": []
    },
    {
      "cell_type": "code",
      "source": [],
      "metadata": {
        "id": "UOjjYlyEvXYb"
      },
      "execution_count": null,
      "outputs": []
    },
    {
      "cell_type": "code",
      "source": [],
      "metadata": {
        "id": "_ALyln3CvXUl"
      },
      "execution_count": null,
      "outputs": []
    },
    {
      "cell_type": "code",
      "source": [],
      "metadata": {
        "id": "G8nW7c9JvXQf"
      },
      "execution_count": null,
      "outputs": []
    },
    {
      "cell_type": "code",
      "source": [],
      "metadata": {
        "id": "tIFFjt3GvXIa"
      },
      "execution_count": null,
      "outputs": []
    },
    {
      "cell_type": "code",
      "source": [],
      "metadata": {
        "id": "pSJPhcUYu6Ts"
      },
      "execution_count": null,
      "outputs": []
    },
    {
      "cell_type": "code",
      "source": [
        "output = np.concatenate((ids, res), 1)"
      ],
      "metadata": {
        "id": "PML_UJotmFLB"
      },
      "execution_count": null,
      "outputs": []
    },
    {
      "cell_type": "code",
      "source": [
        "import pandas as pd\n",
        "df = pd.read_csv('/content/drive/MyDrive/cyberlab/classification_train.csv')\n",
        "test = pd.read_csv('/content/drive/MyDrive/cyberlab/classification_test.csv')\n",
        "import matplotlib.pyplot as plt\n",
        "plt.imshow(test.to_numpy()[83, 1:].reshape(28, 28), cmap='gray')"
      ],
      "metadata": {
        "colab": {
          "base_uri": "https://localhost:8080/",
          "height": 282
        },
        "id": "N2NT-HY-RuqN",
        "outputId": "efd8df03-308a-405a-dd19-00ae6d067e4b"
      },
      "execution_count": null,
      "outputs": [
        {
          "output_type": "execute_result",
          "data": {
            "text/plain": [
              "<matplotlib.image.AxesImage at 0x7f1d64375fa0>"
            ]
          },
          "metadata": {},
          "execution_count": 15
        },
        {
          "output_type": "display_data",
          "data": {
            "text/plain": [
              "<Figure size 432x288 with 1 Axes>"
            ],
            "image/png": "[encoded data removed]"
          },
          "metadata": {
            "needs_background": "light"
          }
        }
      ]
    },
    {
      "cell_type": "code",
      "source": [
        "plt.imshow(df.to_numpy()[5, 2:].reshape(28, 28), cmap='gray')"
      ],
      "metadata": {
        "id": "pJymVbGykgEj",
        "colab": {
          "base_uri": "https://localhost:8080/",
          "height": 282
        },
        "outputId": "eb5ed7d3-776d-467f-899b-3e526c75c29a"
      },
      "execution_count": null,
      "outputs": [
        {
          "output_type": "execute_result",
          "data": {
            "text/plain": [
              "<matplotlib.image.AxesImage at 0x7f1d67334be0>"
            ]
          },
          "metadata": {},
          "execution_count": 6
        },
        {
          "output_type": "display_data",
          "data": {
            "text/plain": [
              "<Figure size 432x288 with 1 Axes>"
            ],
            "image/png": "[encoded data removed]"
          },
          "metadata": {
            "needs_background": "light"
          }
        }
      ]
    },
    {
      "cell_type": "code",
      "source": [
        "#np.savetxt('logisticOutput.csv', output, delimiter= ',')"
      ],
      "metadata": {
        "id": "3ySRYYWkADNK"
      },
      "execution_count": null,
      "outputs": []
    },
    {
      "cell_type": "code",
      "source": [
        "ids"
      ],
      "metadata": {
        "id": "4PmhMvcxntqW",
        "colab": {
          "base_uri": "https://localhost:8080/"
        },
        "outputId": "747e0ff7-6bf5-4750-fee5-76c423a66abc"
      },
      "execution_count": null,
      "outputs": [
        {
          "output_type": "execute_result",
          "data": {
            "text/plain": [
              "array([[25672],\n",
              "       [59964],\n",
              "       [66230],\n",
              "       ...,\n",
              "       [99226],\n",
              "       [58519],\n",
              "       [80458]])"
            ]
          },
          "metadata": {},
          "execution_count": 13
        }
      ]
    },
    {
      "cell_type": "code",
      "source": [
        "w, b = parameters(x, y, 0.01)\n",
        "yhat = predict(valid_x, w, b)\n",
        "\n",
        "accuracy(yhat, valid_y) * 100"
      ],
      "metadata": {
        "colab": {
          "base_uri": "https://localhost:8080/"
        },
        "id": "phOn1RVDt7DD",
        "outputId": "c34c92fd-4155-4eba-a631-9325bbcf9f1b"
      },
      "execution_count": null,
      "outputs": [
        {
          "output_type": "stream",
          "name": "stderr",
          "text": [
            "<ipython-input-91-52a2eba2109c>:2: RuntimeWarning: overflow encountered in exp\n",
            "  return 1/(1 + np.exp(-z))\n"
          ]
        },
        {
          "output_type": "execute_result",
          "data": {
            "text/plain": [
              "90.5"
            ]
          },
          "metadata": {},
          "execution_count": 93
        }
      ]
    },
    {
      "cell_type": "code",
      "source": [
        "res = np.zeros(3)\n",
        "r = np.array([1, 0, 1])\n",
        "\n",
        "res = res + 5*r\n",
        "res"
      ],
      "metadata": {
        "colab": {
          "base_uri": "https://localhost:8080/"
        },
        "id": "VfZ0SHdX7q-G",
        "outputId": "71f5dbf3-dac6-425c-f531-071c8ab7fd1f"
      },
      "execution_count": null,
      "outputs": [
        {
          "output_type": "execute_result",
          "data": {
            "text/plain": [
              "array([5., 0., 5.])"
            ]
          },
          "metadata": {},
          "execution_count": 101
        }
      ]
    },
    {
      "cell_type": "code",
      "execution_count": null,
      "metadata": {
        "id": "MWH-HY8_6l9r"
      },
      "outputs": [],
      "source": [
        "import numpy as np\n",
        "import matplotlib.pyplot as plt\n",
        "import pandas as pd"
      ]
    },
    {
      "cell_type": "code",
      "source": [
        "df = pd.read_csv('/content/drive/MyDrive/cyberlab/linear_train.csv')"
      ],
      "metadata": {
        "id": "-Dx2QNZO72-A"
      },
      "execution_count": null,
      "outputs": []
    },
    {
      "cell_type": "code",
      "source": [
        "df.head(10)"
      ],
      "metadata": {
        "colab": {
          "base_uri": "https://localhost:8080/",
          "height": 469
        },
        "id": "H1Io-19p91gM",
        "outputId": "ddfdfed8-08d5-4f05-d7a7-37be5d202982"
      },
      "execution_count": null,
      "outputs": [
        {
          "output_type": "execute_result",
          "data": {
            "text/plain": [
              "   Unnamed: 0           A           B          C         D          E  \\\n",
              "0           0 -284.685568  284.567363  18.462706  0.012380 -52.394580   \n",
              "1           1 -428.480005  307.240676  22.632897 -0.099657   6.294685   \n",
              "2           2  -25.800879  237.433758  -0.467505 -0.115813  -7.837079   \n",
              "3           3 -292.645787  249.444200  -3.661449  0.020113  -4.273514   \n",
              "4           4 -264.114362  259.031693 -17.772049 -0.108774   6.512923   \n",
              "5           5  193.344631  285.745726 -53.483941 -0.017641  18.593014   \n",
              "6           6 -196.157827  230.929450 -37.963296  0.026508  -7.310071   \n",
              "7           7 -221.312494  248.416552  -7.247610 -0.033209  65.572977   \n",
              "8           8 -417.965179  207.391605 -18.715778  0.103775  31.015769   \n",
              "9           9   29.154337  227.364910 -12.645949  0.184828   8.578613   \n",
              "\n",
              "           F           G          H           I  ...          L          M  \\\n",
              "0  -0.942413    6.746190  19.595626  554.989342  ...  33.451992  -9.171214   \n",
              "1  30.440746   95.919775 -52.450992 -872.531179  ...  14.848331 -33.556867   \n",
              "2  21.598922  158.095089   2.554397  136.298244  ... -12.662449  28.956309   \n",
              "3  21.421400   71.012817  49.089192 -444.041731  ...  -1.741291 -65.225030   \n",
              "4  13.657296   78.446286  20.942401 -257.340694  ...  17.309833  17.309769   \n",
              "5  43.228310   45.982257 -36.031217 -292.831698  ...  -8.554298 -21.241737   \n",
              "6  27.125842   50.283765 -40.433601 -560.867299  ...  12.137186  35.837688   \n",
              "7   7.208908  110.475807  51.075872  745.115034  ...  13.538281  60.427038   \n",
              "8  25.873403   77.105235  21.191801 -287.193289  ... -24.407016  -0.483272   \n",
              "9  13.176155   26.596283 -46.943673 -327.411015  ... -21.495758  12.276679   \n",
              "\n",
              "             N            O          P           Q          R           S  \\\n",
              "0   528.122484 -1959.593876 -47.348529  767.129260 -12.001084   83.978055   \n",
              "1  -569.261772 -2014.463089  20.042132  769.298704  18.057370  -55.521630   \n",
              "2  1069.504591 -1932.524770  18.419684  781.523541  70.652625  302.121708   \n",
              "3   -35.017662 -1987.750883  32.222111  774.167118 -38.784611 -171.210149   \n",
              "4 -1086.046476 -2040.302324  22.900939  809.692581 -32.675473  104.996827   \n",
              "5    70.684480 -1982.465776 -20.491796  734.202958 -22.804325   45.142360   \n",
              "6  -254.050647 -1998.702532  19.103373  780.219980 -19.118230   -6.279496   \n",
              "7  -427.429079 -2007.371454  42.005396  780.706453   8.509696   30.153630   \n",
              "8  1030.660228 -1934.466989 -17.500545  754.965747 -11.484060 -234.197068   \n",
              "9  -284.589670 -2000.229483   2.498699  796.025435  -8.671056  120.375899   \n",
              "\n",
              "            T       label  \n",
              "0  737.317448 -218.016231  \n",
              "1  775.407458  154.140849  \n",
              "2  810.402101  394.849701  \n",
              "3  793.225247  -83.932183  \n",
              "4  841.923375 -120.640357  \n",
              "5  739.243447 -122.715251  \n",
              "6  800.778228 -218.918438  \n",
              "7  771.927299  251.717568  \n",
              "8  807.298291  -18.888337  \n",
              "9  816.372055 -332.076822  \n",
              "\n",
              "[10 rows x 22 columns]"
            ],
            "text/html": [
              "\n",
              "  <div id=\"df-dcfae41d-6a42-4342-a0a6-aa39a6dedc30\">\n",
              "    <div class=\"colab-df-container\">\n",
              "      <div>\n",
              "<style scoped>\n",
              "    .dataframe tbody tr th:only-of-type {\n",
              "        vertical-align: middle;\n",
              "    }\n",
              "\n",
              "    .dataframe tbody tr th {\n",
              "        vertical-align: top;\n",
              "    }\n",
              "\n",
              "    .dataframe thead th {\n",
              "        text-align: right;\n",
              "    }\n",
              "</style>\n",
              "<table border=\"1\" class=\"dataframe\">\n",
              "  <thead>\n",
              "    <tr style=\"text-align: right;\">\n",
              "      <th></th>\n",
              "      <th>Unnamed: 0</th>\n",
              "      <th>A</th>\n",
              "      <th>B</th>\n",
              "      <th>C</th>\n",
              "      <th>D</th>\n",
              "      <th>E</th>\n",
              "      <th>F</th>\n",
              "      <th>G</th>\n",
              "      <th>H</th>\n",
              "      <th>I</th>\n",
              "      <th>...</th>\n",
              "      <th>L</th>\n",
              "      <th>M</th>\n",
              "      <th>N</th>\n",
              "      <th>O</th>\n",
              "      <th>P</th>\n",
              "      <th>Q</th>\n",
              "      <th>R</th>\n",
              "      <th>S</th>\n",
              "      <th>T</th>\n",
              "      <th>label</th>\n",
              "    </tr>\n",
              "  </thead>\n",
              "  <tbody>\n",
              "    <tr>\n",
              "      <th>0</th>\n",
              "      <td>0</td>\n",
              "      <td>-284.685568</td>\n",
              "      <td>284.567363</td>\n",
              "      <td>18.462706</td>\n",
              "      <td>0.012380</td>\n",
              "      <td>-52.394580</td>\n",
              "      <td>-0.942413</td>\n",
              "      <td>6.746190</td>\n",
              "      <td>19.595626</td>\n",
              "      <td>554.989342</td>\n",
              "      <td>...</td>\n",
              "      <td>33.451992</td>\n",
              "      <td>-9.171214</td>\n",
              "      <td>528.122484</td>\n",
              "      <td>-1959.593876</td>\n",
              "      <td>-47.348529</td>\n",
              "      <td>767.129260</td>\n",
              "      <td>-12.001084</td>\n",
              "      <td>83.978055</td>\n",
              "      <td>737.317448</td>\n",
              "      <td>-218.016231</td>\n",
              "    </tr>\n",
              "    <tr>\n",
              "      <th>1</th>\n",
              "      <td>1</td>\n",
              "      <td>-428.480005</td>\n",
              "      <td>307.240676</td>\n",
              "      <td>22.632897</td>\n",
              "      <td>-0.099657</td>\n",
              "      <td>6.294685</td>\n",
              "      <td>30.440746</td>\n",
              "      <td>95.919775</td>\n",
              "      <td>-52.450992</td>\n",
              "      <td>-872.531179</td>\n",
              "      <td>...</td>\n",
              "      <td>14.848331</td>\n",
              "      <td>-33.556867</td>\n",
              "      <td>-569.261772</td>\n",
              "      <td>-2014.463089</td>\n",
              "      <td>20.042132</td>\n",
              "      <td>769.298704</td>\n",
              "      <td>18.057370</td>\n",
              "      <td>-55.521630</td>\n",
              "      <td>775.407458</td>\n",
              "      <td>154.140849</td>\n",
              "    </tr>\n",
              "    <tr>\n",
              "      <th>2</th>\n",
              "      <td>2</td>\n",
              "      <td>-25.800879</td>\n",
              "      <td>237.433758</td>\n",
              "      <td>-0.467505</td>\n",
              "      <td>-0.115813</td>\n",
              "      <td>-7.837079</td>\n",
              "      <td>21.598922</td>\n",
              "      <td>158.095089</td>\n",
              "      <td>2.554397</td>\n",
              "      <td>136.298244</td>\n",
              "      <td>...</td>\n",
              "      <td>-12.662449</td>\n",
              "      <td>28.956309</td>\n",
              "      <td>1069.504591</td>\n",
              "      <td>-1932.524770</td>\n",
              "      <td>18.419684</td>\n",
              "      <td>781.523541</td>\n",
              "      <td>70.652625</td>\n",
              "      <td>302.121708</td>\n",
              "      <td>810.402101</td>\n",
              "      <td>394.849701</td>\n",
              "    </tr>\n",
              "    <tr>\n",
              "      <th>3</th>\n",
              "      <td>3</td>\n",
              "      <td>-292.645787</td>\n",
              "      <td>249.444200</td>\n",
              "      <td>-3.661449</td>\n",
              "      <td>0.020113</td>\n",
              "      <td>-4.273514</td>\n",
              "      <td>21.421400</td>\n",
              "      <td>71.012817</td>\n",
              "      <td>49.089192</td>\n",
              "      <td>-444.041731</td>\n",
              "      <td>...</td>\n",
              "      <td>-1.741291</td>\n",
              "      <td>-65.225030</td>\n",
              "      <td>-35.017662</td>\n",
              "      <td>-1987.750883</td>\n",
              "      <td>32.222111</td>\n",
              "      <td>774.167118</td>\n",
              "      <td>-38.784611</td>\n",
              "      <td>-171.210149</td>\n",
              "      <td>793.225247</td>\n",
              "      <td>-83.932183</td>\n",
              "    </tr>\n",
              "    <tr>\n",
              "      <th>4</th>\n",
              "      <td>4</td>\n",
              "      <td>-264.114362</td>\n",
              "      <td>259.031693</td>\n",
              "      <td>-17.772049</td>\n",
              "      <td>-0.108774</td>\n",
              "      <td>6.512923</td>\n",
              "      <td>13.657296</td>\n",
              "      <td>78.446286</td>\n",
              "      <td>20.942401</td>\n",
              "      <td>-257.340694</td>\n",
              "      <td>...</td>\n",
              "      <td>17.309833</td>\n",
              "      <td>17.309769</td>\n",
              "      <td>-1086.046476</td>\n",
              "      <td>-2040.302324</td>\n",
              "      <td>22.900939</td>\n",
              "      <td>809.692581</td>\n",
              "      <td>-32.675473</td>\n",
              "      <td>104.996827</td>\n",
              "      <td>841.923375</td>\n",
              "      <td>-120.640357</td>\n",
              "    </tr>\n",
              "    <tr>\n",
              "      <th>5</th>\n",
              "      <td>5</td>\n",
              "      <td>193.344631</td>\n",
              "      <td>285.745726</td>\n",
              "      <td>-53.483941</td>\n",
              "      <td>-0.017641</td>\n",
              "      <td>18.593014</td>\n",
              "      <td>43.228310</td>\n",
              "      <td>45.982257</td>\n",
              "      <td>-36.031217</td>\n",
              "      <td>-292.831698</td>\n",
              "      <td>...</td>\n",
              "      <td>-8.554298</td>\n",
              "      <td>-21.241737</td>\n",
              "      <td>70.684480</td>\n",
              "      <td>-1982.465776</td>\n",
              "      <td>-20.491796</td>\n",
              "      <td>734.202958</td>\n",
              "      <td>-22.804325</td>\n",
              "      <td>45.142360</td>\n",
              "      <td>739.243447</td>\n",
              "      <td>-122.715251</td>\n",
              "    </tr>\n",
              "    <tr>\n",
              "      <th>6</th>\n",
              "      <td>6</td>\n",
              "      <td>-196.157827</td>\n",
              "      <td>230.929450</td>\n",
              "      <td>-37.963296</td>\n",
              "      <td>0.026508</td>\n",
              "      <td>-7.310071</td>\n",
              "      <td>27.125842</td>\n",
              "      <td>50.283765</td>\n",
              "      <td>-40.433601</td>\n",
              "      <td>-560.867299</td>\n",
              "      <td>...</td>\n",
              "      <td>12.137186</td>\n",
              "      <td>35.837688</td>\n",
              "      <td>-254.050647</td>\n",
              "      <td>-1998.702532</td>\n",
              "      <td>19.103373</td>\n",
              "      <td>780.219980</td>\n",
              "      <td>-19.118230</td>\n",
              "      <td>-6.279496</td>\n",
              "      <td>800.778228</td>\n",
              "      <td>-218.918438</td>\n",
              "    </tr>\n",
              "    <tr>\n",
              "      <th>7</th>\n",
              "      <td>7</td>\n",
              "      <td>-221.312494</td>\n",
              "      <td>248.416552</td>\n",
              "      <td>-7.247610</td>\n",
              "      <td>-0.033209</td>\n",
              "      <td>65.572977</td>\n",
              "      <td>7.208908</td>\n",
              "      <td>110.475807</td>\n",
              "      <td>51.075872</td>\n",
              "      <td>745.115034</td>\n",
              "      <td>...</td>\n",
              "      <td>13.538281</td>\n",
              "      <td>60.427038</td>\n",
              "      <td>-427.429079</td>\n",
              "      <td>-2007.371454</td>\n",
              "      <td>42.005396</td>\n",
              "      <td>780.706453</td>\n",
              "      <td>8.509696</td>\n",
              "      <td>30.153630</td>\n",
              "      <td>771.927299</td>\n",
              "      <td>251.717568</td>\n",
              "    </tr>\n",
              "    <tr>\n",
              "      <th>8</th>\n",
              "      <td>8</td>\n",
              "      <td>-417.965179</td>\n",
              "      <td>207.391605</td>\n",
              "      <td>-18.715778</td>\n",
              "      <td>0.103775</td>\n",
              "      <td>31.015769</td>\n",
              "      <td>25.873403</td>\n",
              "      <td>77.105235</td>\n",
              "      <td>21.191801</td>\n",
              "      <td>-287.193289</td>\n",
              "      <td>...</td>\n",
              "      <td>-24.407016</td>\n",
              "      <td>-0.483272</td>\n",
              "      <td>1030.660228</td>\n",
              "      <td>-1934.466989</td>\n",
              "      <td>-17.500545</td>\n",
              "      <td>754.965747</td>\n",
              "      <td>-11.484060</td>\n",
              "      <td>-234.197068</td>\n",
              "      <td>807.298291</td>\n",
              "      <td>-18.888337</td>\n",
              "    </tr>\n",
              "    <tr>\n",
              "      <th>9</th>\n",
              "      <td>9</td>\n",
              "      <td>29.154337</td>\n",
              "      <td>227.364910</td>\n",
              "      <td>-12.645949</td>\n",
              "      <td>0.184828</td>\n",
              "      <td>8.578613</td>\n",
              "      <td>13.176155</td>\n",
              "      <td>26.596283</td>\n",
              "      <td>-46.943673</td>\n",
              "      <td>-327.411015</td>\n",
              "      <td>...</td>\n",
              "      <td>-21.495758</td>\n",
              "      <td>12.276679</td>\n",
              "      <td>-284.589670</td>\n",
              "      <td>-2000.229483</td>\n",
              "      <td>2.498699</td>\n",
              "      <td>796.025435</td>\n",
              "      <td>-8.671056</td>\n",
              "      <td>120.375899</td>\n",
              "      <td>816.372055</td>\n",
              "      <td>-332.076822</td>\n",
              "    </tr>\n",
              "  </tbody>\n",
              "</table>\n",
              "<p>10 rows × 22 columns</p>\n",
              "</div>\n",
              "      <button class=\"colab-df-convert\" onclick=\"convertToInteractive('df-dcfae41d-6a42-4342-a0a6-aa39a6dedc30')\"\n",
              "              title=\"Convert this dataframe to an interactive table.\"\n",
              "              style=\"display:none;\">\n",
              "        \n",
              "  <svg xmlns=\"http://www.w3.org/2000/svg\" height=\"24px\"viewBox=\"0 0 24 24\"\n",
              "       width=\"24px\">\n",
              "    <path d=\"M0 0h24v24H0V0z\" fill=\"none\"/>\n",
              "    <path d=\"M18.56 5.44l.94 2.06.94-2.06 2.06-.94-2.06-.94-.94-2.06-.94 2.06-2.06.94zm-11 1L8.5 8.5l.94-2.06 2.06-.94-2.06-.94L8.5 2.5l-.94 2.06-2.06.94zm10 10l.94 2.06.94-2.06 2.06-.94-2.06-.94-.94-2.06-.94 2.06-2.06.94z\"/><path d=\"M17.41 7.96l-1.37-1.37c-.4-.4-.92-.59-1.43-.59-.52 0-1.04.2-1.43.59L10.3 9.45l-7.72 7.72c-.78.78-.78 2.05 0 2.83L4 21.41c.39.39.9.59 1.41.59.51 0 1.02-.2 1.41-.59l7.78-7.78 2.81-2.81c.8-.78.8-2.07 0-2.86zM5.41 20L4 18.59l7.72-7.72 1.47 1.35L5.41 20z\"/>\n",
              "  </svg>\n",
              "      </button>\n",
              "      \n",
              "  <style>\n",
              "    .colab-df-container {\n",
              "      display:flex;\n",
              "      flex-wrap:wrap;\n",
              "      gap: 12px;\n",
              "    }\n",
              "\n",
              "    .colab-df-convert {\n",
              "      background-color: #E8F0FE;\n",
              "      border: none;\n",
              "      border-radius: 50%;\n",
              "      cursor: pointer;\n",
              "      display: none;\n",
              "      fill: #1967D2;\n",
              "      height: 32px;\n",
              "      padding: 0 0 0 0;\n",
              "      width: 32px;\n",
              "    }\n",
              "\n",
              "    .colab-df-convert:hover {\n",
              "      background-color: #E2EBFA;\n",
              "      box-shadow: 0px 1px 2px rgba(60, 64, 67, 0.3), 0px 1px 3px 1px rgba(60, 64, 67, 0.15);\n",
              "      fill: #174EA6;\n",
              "    }\n",
              "\n",
              "    [theme=dark] .colab-df-convert {\n",
              "      background-color: #3B4455;\n",
              "      fill: #D2E3FC;\n",
              "    }\n",
              "\n",
              "    [theme=dark] .colab-df-convert:hover {\n",
              "      background-color: #434B5C;\n",
              "      box-shadow: 0px 1px 3px 1px rgba(0, 0, 0, 0.15);\n",
              "      filter: drop-shadow(0px 1px 2px rgba(0, 0, 0, 0.3));\n",
              "      fill: #FFFFFF;\n",
              "    }\n",
              "  </style>\n",
              "\n",
              "      <script>\n",
              "        const buttonEl =\n",
              "          document.querySelector('#df-dcfae41d-6a42-4342-a0a6-aa39a6dedc30 button.colab-df-convert');\n",
              "        buttonEl.style.display =\n",
              "          google.colab.kernel.accessAllowed ? 'block' : 'none';\n",
              "\n",
              "        async function convertToInteractive(key) {\n",
              "          const element = document.querySelector('#df-dcfae41d-6a42-4342-a0a6-aa39a6dedc30');\n",
              "          const dataTable =\n",
              "            await google.colab.kernel.invokeFunction('convertToInteractive',\n",
              "                                                     [key], {});\n",
              "          if (!dataTable) return;\n",
              "\n",
              "          const docLinkHtml = 'Like what you see? Visit the ' +\n",
              "            '<a target=\"_blank\" href=https://colab.research.google.com/notebooks/data_table.ipynb>data table notebook</a>'\n",
              "            + ' to learn more about interactive tables.';\n",
              "          element.innerHTML = '';\n",
              "          dataTable['output_type'] = 'display_data';\n",
              "          await google.colab.output.renderOutput(dataTable, element);\n",
              "          const docLink = document.createElement('div');\n",
              "          docLink.innerHTML = docLinkHtml;\n",
              "          element.appendChild(docLink);\n",
              "        }\n",
              "      </script>\n",
              "    </div>\n",
              "  </div>\n",
              "  "
            ]
          },
          "metadata": {},
          "execution_count": 22
        }
      ]
    },
    {
      "cell_type": "code",
      "source": [
        "df = df.drop(labels = 'Unnamed: 0', axis = 1)"
      ],
      "metadata": {
        "id": "gxB0kE4c-3Gt"
      },
      "execution_count": null,
      "outputs": []
    },
    {
      "cell_type": "code",
      "source": [
        "df.columns"
      ],
      "metadata": {
        "colab": {
          "base_uri": "https://localhost:8080/"
        },
        "id": "o0LLGvjG_kaY",
        "outputId": "133198b0-669c-4d41-d267-4e5cd83c4a10"
      },
      "execution_count": null,
      "outputs": [
        {
          "output_type": "execute_result",
          "data": {
            "text/plain": [
              "Index(['A', 'B', 'C', 'D', 'E', 'F', 'G', 'H', 'I', 'J', 'K', 'L', 'M', 'N',\n",
              "       'O', 'P', 'Q', 'R', 'S', 'T', 'label'],\n",
              "      dtype='object')"
            ]
          },
          "metadata": {},
          "execution_count": 24
        }
      ]
    },
    {
      "cell_type": "code",
      "source": [
        "for column in df.columns:\n",
        "  print(f'{column}: {df[column].max()},     {df[column].min()},     Range: {df[column].max() - df[column].min()}')"
      ],
      "metadata": {
        "id": "-30vFtaI_Q91",
        "colab": {
          "base_uri": "https://localhost:8080/"
        },
        "outputId": "45dddb4a-fca6-40ae-84e4-0cfed22af7dd"
      },
      "execution_count": null,
      "outputs": [
        {
          "output_type": "stream",
          "name": "stdout",
          "text": [
            "A: 1186.6449795514836,     -1275.1338648800293,     Range: 2461.778844431513\n",
            "B: 374.7222628448747,     139.25365294519227,     Range: 235.46860989968243\n",
            "C: 111.58292717145989,     -114.41560740942064,     Range: 225.99853458088052\n",
            "D: 0.8413366513792128,     -0.8923488434235808,     Range: 1.7336854948027935\n",
            "E: 127.97383574359306,     -132.697679266157,     Range: 260.67151500975007\n",
            "F: 84.28418260117743,     -36.17756475412351,     Range: 120.46174735530094\n",
            "G: 177.47079724213336,     -46.80295514136468,     Range: 224.27375238349805\n",
            "H: 112.1078143044574,     -137.98388595746164,     Range: 250.09170026191904\n",
            "I: 958.0619650905512,     -1265.689514782293,     Range: 2223.7514798728444\n",
            "J: 1689.3366826645793,     1445.7995812139914,     Range: 243.5371014505879\n",
            "K: 263.6842600107635,     24.94161809344382,     Range: 238.7426419173197\n",
            "L: 114.16870845932088,     -114.11621444234582,     Range: 228.2849229016667\n",
            "M: 131.8966835077652,     -127.5886818151108,     Range: 259.485365322876\n",
            "N: 2279.968853416207,     -2522.9621397604105,     Range: 4802.930993176617\n",
            "O: -1872.0015573291896,     -2112.148106988021,     Range: 240.14654965883142\n",
            "P: 131.75020435040662,     -122.86215235826114,     Range: 254.61235670866776\n",
            "Q: 875.5804717874802,     648.8030279696358,     Range: 226.77744381784441\n",
            "R: 118.39699669297924,     -122.7254566876573,     Range: 241.12245338063656\n",
            "S: 626.4303485470721,     -552.1389883927374,     Range: 1178.5693369398095\n",
            "T: 903.7616184093768,     668.2219491549778,     Range: 235.53966925439897\n",
            "label: 1069.7950538832397,     -967.2322740905388,     Range: 2037.0273279737785\n"
          ]
        }
      ]
    },
    {
      "cell_type": "code",
      "source": [
        "#Add normalisation in future"
      ],
      "metadata": {
        "id": "fMxK5VxjBisI"
      },
      "execution_count": null,
      "outputs": []
    },
    {
      "cell_type": "code",
      "source": [
        "# df = df.sort_values('A')"
      ],
      "metadata": {
        "id": "RDlNMkGSDnJd"
      },
      "execution_count": null,
      "outputs": []
    },
    {
      "cell_type": "code",
      "source": [
        "df"
      ],
      "metadata": {
        "colab": {
          "base_uri": "https://localhost:8080/",
          "height": 483
        },
        "id": "Ony5UDIpDm85",
        "outputId": "684189c1-ff4e-484b-f924-1fe154c8a02c"
      },
      "execution_count": null,
      "outputs": [
        {
          "output_type": "execute_result",
          "data": {
            "text/plain": [
              "                A           B          C         D          E          F  \\\n",
              "0     -284.685568  284.567363  18.462706  0.012380 -52.394580  -0.942413   \n",
              "1     -428.480005  307.240676  22.632897 -0.099657   6.294685  30.440746   \n",
              "2      -25.800879  237.433758  -0.467505 -0.115813  -7.837079  21.598922   \n",
              "3     -292.645787  249.444200  -3.661449  0.020113  -4.273514  21.421400   \n",
              "4     -264.114362  259.031693 -17.772049 -0.108774   6.512923  13.657296   \n",
              "...           ...         ...        ...       ...        ...        ...   \n",
              "49995  -85.031310  222.790990   0.095627  0.204109 -52.848040  38.821311   \n",
              "49996  137.926149  290.653724  50.544278 -0.083692   5.798451  13.489033   \n",
              "49997 -254.691431  256.793278  23.197453 -0.134180 -18.699290  18.167020   \n",
              "49998  710.054262  257.565009 -16.335601 -0.067519  35.120422  20.832651   \n",
              "49999 -269.821407  281.097270 -30.582427  0.040931 -30.704368  28.360981   \n",
              "\n",
              "                G          H           I            J  ...          L  \\\n",
              "0        6.746190  19.595626  554.989342  1560.150744  ...  33.451992   \n",
              "1       95.919775 -52.450992 -872.531179  1544.933514  ...  14.848331   \n",
              "2      158.095089   2.554397  136.298244  1550.705661  ... -12.662449   \n",
              "3       71.012817  49.089192 -444.041731  1585.456001  ...  -1.741291   \n",
              "4       78.446286  20.942401 -257.340694  1553.952288  ...  17.309833   \n",
              "...           ...        ...         ...          ...  ...        ...   \n",
              "49995   23.198112 -21.586558 -424.165189  1549.541685  ...  28.318193   \n",
              "49996   71.397422 -26.856339  344.026419  1514.410762  ... -19.500872   \n",
              "49997   99.842281 -34.969292 -470.061887  1565.649718  ...   4.196743   \n",
              "49998   56.636551  34.805563  116.608021  1577.231277  ... -24.301008   \n",
              "49999    7.933665  83.083795 -223.172644  1556.433668  ... -36.718727   \n",
              "\n",
              "               M            N            O          P           Q          R  \\\n",
              "0      -9.171214   528.122484 -1959.593876 -47.348529  767.129260 -12.001084   \n",
              "1     -33.556867  -569.261772 -2014.463089  20.042132  769.298704  18.057370   \n",
              "2      28.956309  1069.504591 -1932.524770  18.419684  781.523541  70.652625   \n",
              "3     -65.225030   -35.017662 -1987.750883  32.222111  774.167118 -38.784611   \n",
              "4      17.309769 -1086.046476 -2040.302324  22.900939  809.692581 -32.675473   \n",
              "...          ...          ...          ...        ...         ...        ...   \n",
              "49995  12.697718  -655.264783 -2018.763239 -29.192308  689.387739 -32.005704   \n",
              "49996   8.418415   636.835571 -1954.158221 -11.425503  748.544791  16.364545   \n",
              "49997 -49.306852   246.439298 -1973.678035  31.945661  791.303799 -23.078521   \n",
              "49998 -11.243710   728.794707 -1949.560265  23.984814  795.210523  15.238836   \n",
              "49999 -33.282974   -22.109129 -1987.105456  12.485738  718.406210   8.347638   \n",
              "\n",
              "                S           T       label  \n",
              "0       83.978055  737.317448 -218.016231  \n",
              "1      -55.521630  775.407458  154.140849  \n",
              "2      302.121708  810.402101  394.849701  \n",
              "3     -171.210149  793.225247  -83.932183  \n",
              "4      104.996827  841.923375 -120.640357  \n",
              "...           ...         ...         ...  \n",
              "49995   -8.231327  819.069926 -516.512029  \n",
              "49996 -139.060872  742.606658 -116.725300  \n",
              "49997  188.422643  748.559054   -3.444489  \n",
              "49998   89.527817  757.012968  445.356781  \n",
              "49999  144.270028  732.900535 -500.924681  \n",
              "\n",
              "[50000 rows x 21 columns]"
            ],
            "text/html": [
              "\n",
              "  <div id=\"df-a06adfb9-e46d-4bf6-9aaa-e4cfcd8edd52\">\n",
              "    <div class=\"colab-df-container\">\n",
              "      <div>\n",
              "<style scoped>\n",
              "    .dataframe tbody tr th:only-of-type {\n",
              "        vertical-align: middle;\n",
              "    }\n",
              "\n",
              "    .dataframe tbody tr th {\n",
              "        vertical-align: top;\n",
              "    }\n",
              "\n",
              "    .dataframe thead th {\n",
              "        text-align: right;\n",
              "    }\n",
              "</style>\n",
              "<table border=\"1\" class=\"dataframe\">\n",
              "  <thead>\n",
              "    <tr style=\"text-align: right;\">\n",
              "      <th></th>\n",
              "      <th>A</th>\n",
              "      <th>B</th>\n",
              "      <th>C</th>\n",
              "      <th>D</th>\n",
              "      <th>E</th>\n",
              "      <th>F</th>\n",
              "      <th>G</th>\n",
              "      <th>H</th>\n",
              "      <th>I</th>\n",
              "      <th>J</th>\n",
              "      <th>...</th>\n",
              "      <th>L</th>\n",
              "      <th>M</th>\n",
              "      <th>N</th>\n",
              "      <th>O</th>\n",
              "      <th>P</th>\n",
              "      <th>Q</th>\n",
              "      <th>R</th>\n",
              "      <th>S</th>\n",
              "      <th>T</th>\n",
              "      <th>label</th>\n",
              "    </tr>\n",
              "  </thead>\n",
              "  <tbody>\n",
              "    <tr>\n",
              "      <th>0</th>\n",
              "      <td>-284.685568</td>\n",
              "      <td>284.567363</td>\n",
              "      <td>18.462706</td>\n",
              "      <td>0.012380</td>\n",
              "      <td>-52.394580</td>\n",
              "      <td>-0.942413</td>\n",
              "      <td>6.746190</td>\n",
              "      <td>19.595626</td>\n",
              "      <td>554.989342</td>\n",
              "      <td>1560.150744</td>\n",
              "      <td>...</td>\n",
              "      <td>33.451992</td>\n",
              "      <td>-9.171214</td>\n",
              "      <td>528.122484</td>\n",
              "      <td>-1959.593876</td>\n",
              "      <td>-47.348529</td>\n",
              "      <td>767.129260</td>\n",
              "      <td>-12.001084</td>\n",
              "      <td>83.978055</td>\n",
              "      <td>737.317448</td>\n",
              "      <td>-218.016231</td>\n",
              "    </tr>\n",
              "    <tr>\n",
              "      <th>1</th>\n",
              "      <td>-428.480005</td>\n",
              "      <td>307.240676</td>\n",
              "      <td>22.632897</td>\n",
              "      <td>-0.099657</td>\n",
              "      <td>6.294685</td>\n",
              "      <td>30.440746</td>\n",
              "      <td>95.919775</td>\n",
              "      <td>-52.450992</td>\n",
              "      <td>-872.531179</td>\n",
              "      <td>1544.933514</td>\n",
              "      <td>...</td>\n",
              "      <td>14.848331</td>\n",
              "      <td>-33.556867</td>\n",
              "      <td>-569.261772</td>\n",
              "      <td>-2014.463089</td>\n",
              "      <td>20.042132</td>\n",
              "      <td>769.298704</td>\n",
              "      <td>18.057370</td>\n",
              "      <td>-55.521630</td>\n",
              "      <td>775.407458</td>\n",
              "      <td>154.140849</td>\n",
              "    </tr>\n",
              "    <tr>\n",
              "      <th>2</th>\n",
              "      <td>-25.800879</td>\n",
              "      <td>237.433758</td>\n",
              "      <td>-0.467505</td>\n",
              "      <td>-0.115813</td>\n",
              "      <td>-7.837079</td>\n",
              "      <td>21.598922</td>\n",
              "      <td>158.095089</td>\n",
              "      <td>2.554397</td>\n",
              "      <td>136.298244</td>\n",
              "      <td>1550.705661</td>\n",
              "      <td>...</td>\n",
              "      <td>-12.662449</td>\n",
              "      <td>28.956309</td>\n",
              "      <td>1069.504591</td>\n",
              "      <td>-1932.524770</td>\n",
              "      <td>18.419684</td>\n",
              "      <td>781.523541</td>\n",
              "      <td>70.652625</td>\n",
              "      <td>302.121708</td>\n",
              "      <td>810.402101</td>\n",
              "      <td>394.849701</td>\n",
              "    </tr>\n",
              "    <tr>\n",
              "      <th>3</th>\n",
              "      <td>-292.645787</td>\n",
              "      <td>249.444200</td>\n",
              "      <td>-3.661449</td>\n",
              "      <td>0.020113</td>\n",
              "      <td>-4.273514</td>\n",
              "      <td>21.421400</td>\n",
              "      <td>71.012817</td>\n",
              "      <td>49.089192</td>\n",
              "      <td>-444.041731</td>\n",
              "      <td>1585.456001</td>\n",
              "      <td>...</td>\n",
              "      <td>-1.741291</td>\n",
              "      <td>-65.225030</td>\n",
              "      <td>-35.017662</td>\n",
              "      <td>-1987.750883</td>\n",
              "      <td>32.222111</td>\n",
              "      <td>774.167118</td>\n",
              "      <td>-38.784611</td>\n",
              "      <td>-171.210149</td>\n",
              "      <td>793.225247</td>\n",
              "      <td>-83.932183</td>\n",
              "    </tr>\n",
              "    <tr>\n",
              "      <th>4</th>\n",
              "      <td>-264.114362</td>\n",
              "      <td>259.031693</td>\n",
              "      <td>-17.772049</td>\n",
              "      <td>-0.108774</td>\n",
              "      <td>6.512923</td>\n",
              "      <td>13.657296</td>\n",
              "      <td>78.446286</td>\n",
              "      <td>20.942401</td>\n",
              "      <td>-257.340694</td>\n",
              "      <td>1553.952288</td>\n",
              "      <td>...</td>\n",
              "      <td>17.309833</td>\n",
              "      <td>17.309769</td>\n",
              "      <td>-1086.046476</td>\n",
              "      <td>-2040.302324</td>\n",
              "      <td>22.900939</td>\n",
              "      <td>809.692581</td>\n",
              "      <td>-32.675473</td>\n",
              "      <td>104.996827</td>\n",
              "      <td>841.923375</td>\n",
              "      <td>-120.640357</td>\n",
              "    </tr>\n",
              "    <tr>\n",
              "      <th>...</th>\n",
              "      <td>...</td>\n",
              "      <td>...</td>\n",
              "      <td>...</td>\n",
              "      <td>...</td>\n",
              "      <td>...</td>\n",
              "      <td>...</td>\n",
              "      <td>...</td>\n",
              "      <td>...</td>\n",
              "      <td>...</td>\n",
              "      <td>...</td>\n",
              "      <td>...</td>\n",
              "      <td>...</td>\n",
              "      <td>...</td>\n",
              "      <td>...</td>\n",
              "      <td>...</td>\n",
              "      <td>...</td>\n",
              "      <td>...</td>\n",
              "      <td>...</td>\n",
              "      <td>...</td>\n",
              "      <td>...</td>\n",
              "      <td>...</td>\n",
              "    </tr>\n",
              "    <tr>\n",
              "      <th>49995</th>\n",
              "      <td>-85.031310</td>\n",
              "      <td>222.790990</td>\n",
              "      <td>0.095627</td>\n",
              "      <td>0.204109</td>\n",
              "      <td>-52.848040</td>\n",
              "      <td>38.821311</td>\n",
              "      <td>23.198112</td>\n",
              "      <td>-21.586558</td>\n",
              "      <td>-424.165189</td>\n",
              "      <td>1549.541685</td>\n",
              "      <td>...</td>\n",
              "      <td>28.318193</td>\n",
              "      <td>12.697718</td>\n",
              "      <td>-655.264783</td>\n",
              "      <td>-2018.763239</td>\n",
              "      <td>-29.192308</td>\n",
              "      <td>689.387739</td>\n",
              "      <td>-32.005704</td>\n",
              "      <td>-8.231327</td>\n",
              "      <td>819.069926</td>\n",
              "      <td>-516.512029</td>\n",
              "    </tr>\n",
              "    <tr>\n",
              "      <th>49996</th>\n",
              "      <td>137.926149</td>\n",
              "      <td>290.653724</td>\n",
              "      <td>50.544278</td>\n",
              "      <td>-0.083692</td>\n",
              "      <td>5.798451</td>\n",
              "      <td>13.489033</td>\n",
              "      <td>71.397422</td>\n",
              "      <td>-26.856339</td>\n",
              "      <td>344.026419</td>\n",
              "      <td>1514.410762</td>\n",
              "      <td>...</td>\n",
              "      <td>-19.500872</td>\n",
              "      <td>8.418415</td>\n",
              "      <td>636.835571</td>\n",
              "      <td>-1954.158221</td>\n",
              "      <td>-11.425503</td>\n",
              "      <td>748.544791</td>\n",
              "      <td>16.364545</td>\n",
              "      <td>-139.060872</td>\n",
              "      <td>742.606658</td>\n",
              "      <td>-116.725300</td>\n",
              "    </tr>\n",
              "    <tr>\n",
              "      <th>49997</th>\n",
              "      <td>-254.691431</td>\n",
              "      <td>256.793278</td>\n",
              "      <td>23.197453</td>\n",
              "      <td>-0.134180</td>\n",
              "      <td>-18.699290</td>\n",
              "      <td>18.167020</td>\n",
              "      <td>99.842281</td>\n",
              "      <td>-34.969292</td>\n",
              "      <td>-470.061887</td>\n",
              "      <td>1565.649718</td>\n",
              "      <td>...</td>\n",
              "      <td>4.196743</td>\n",
              "      <td>-49.306852</td>\n",
              "      <td>246.439298</td>\n",
              "      <td>-1973.678035</td>\n",
              "      <td>31.945661</td>\n",
              "      <td>791.303799</td>\n",
              "      <td>-23.078521</td>\n",
              "      <td>188.422643</td>\n",
              "      <td>748.559054</td>\n",
              "      <td>-3.444489</td>\n",
              "    </tr>\n",
              "    <tr>\n",
              "      <th>49998</th>\n",
              "      <td>710.054262</td>\n",
              "      <td>257.565009</td>\n",
              "      <td>-16.335601</td>\n",
              "      <td>-0.067519</td>\n",
              "      <td>35.120422</td>\n",
              "      <td>20.832651</td>\n",
              "      <td>56.636551</td>\n",
              "      <td>34.805563</td>\n",
              "      <td>116.608021</td>\n",
              "      <td>1577.231277</td>\n",
              "      <td>...</td>\n",
              "      <td>-24.301008</td>\n",
              "      <td>-11.243710</td>\n",
              "      <td>728.794707</td>\n",
              "      <td>-1949.560265</td>\n",
              "      <td>23.984814</td>\n",
              "      <td>795.210523</td>\n",
              "      <td>15.238836</td>\n",
              "      <td>89.527817</td>\n",
              "      <td>757.012968</td>\n",
              "      <td>445.356781</td>\n",
              "    </tr>\n",
              "    <tr>\n",
              "      <th>49999</th>\n",
              "      <td>-269.821407</td>\n",
              "      <td>281.097270</td>\n",
              "      <td>-30.582427</td>\n",
              "      <td>0.040931</td>\n",
              "      <td>-30.704368</td>\n",
              "      <td>28.360981</td>\n",
              "      <td>7.933665</td>\n",
              "      <td>83.083795</td>\n",
              "      <td>-223.172644</td>\n",
              "      <td>1556.433668</td>\n",
              "      <td>...</td>\n",
              "      <td>-36.718727</td>\n",
              "      <td>-33.282974</td>\n",
              "      <td>-22.109129</td>\n",
              "      <td>-1987.105456</td>\n",
              "      <td>12.485738</td>\n",
              "      <td>718.406210</td>\n",
              "      <td>8.347638</td>\n",
              "      <td>144.270028</td>\n",
              "      <td>732.900535</td>\n",
              "      <td>-500.924681</td>\n",
              "    </tr>\n",
              "  </tbody>\n",
              "</table>\n",
              "<p>50000 rows × 21 columns</p>\n",
              "</div>\n",
              "      <button class=\"colab-df-convert\" onclick=\"convertToInteractive('df-a06adfb9-e46d-4bf6-9aaa-e4cfcd8edd52')\"\n",
              "              title=\"Convert this dataframe to an interactive table.\"\n",
              "              style=\"display:none;\">\n",
              "        \n",
              "  <svg xmlns=\"http://www.w3.org/2000/svg\" height=\"24px\"viewBox=\"0 0 24 24\"\n",
              "       width=\"24px\">\n",
              "    <path d=\"M0 0h24v24H0V0z\" fill=\"none\"/>\n",
              "    <path d=\"M18.56 5.44l.94 2.06.94-2.06 2.06-.94-2.06-.94-.94-2.06-.94 2.06-2.06.94zm-11 1L8.5 8.5l.94-2.06 2.06-.94-2.06-.94L8.5 2.5l-.94 2.06-2.06.94zm10 10l.94 2.06.94-2.06 2.06-.94-2.06-.94-.94-2.06-.94 2.06-2.06.94z\"/><path d=\"M17.41 7.96l-1.37-1.37c-.4-.4-.92-.59-1.43-.59-.52 0-1.04.2-1.43.59L10.3 9.45l-7.72 7.72c-.78.78-.78 2.05 0 2.83L4 21.41c.39.39.9.59 1.41.59.51 0 1.02-.2 1.41-.59l7.78-7.78 2.81-2.81c.8-.78.8-2.07 0-2.86zM5.41 20L4 18.59l7.72-7.72 1.47 1.35L5.41 20z\"/>\n",
              "  </svg>\n",
              "      </button>\n",
              "      \n",
              "  <style>\n",
              "    .colab-df-container {\n",
              "      display:flex;\n",
              "      flex-wrap:wrap;\n",
              "      gap: 12px;\n",
              "    }\n",
              "\n",
              "    .colab-df-convert {\n",
              "      background-color: #E8F0FE;\n",
              "      border: none;\n",
              "      border-radius: 50%;\n",
              "      cursor: pointer;\n",
              "      display: none;\n",
              "      fill: #1967D2;\n",
              "      height: 32px;\n",
              "      padding: 0 0 0 0;\n",
              "      width: 32px;\n",
              "    }\n",
              "\n",
              "    .colab-df-convert:hover {\n",
              "      background-color: #E2EBFA;\n",
              "      box-shadow: 0px 1px 2px rgba(60, 64, 67, 0.3), 0px 1px 3px 1px rgba(60, 64, 67, 0.15);\n",
              "      fill: #174EA6;\n",
              "    }\n",
              "\n",
              "    [theme=dark] .colab-df-convert {\n",
              "      background-color: #3B4455;\n",
              "      fill: #D2E3FC;\n",
              "    }\n",
              "\n",
              "    [theme=dark] .colab-df-convert:hover {\n",
              "      background-color: #434B5C;\n",
              "      box-shadow: 0px 1px 3px 1px rgba(0, 0, 0, 0.15);\n",
              "      filter: drop-shadow(0px 1px 2px rgba(0, 0, 0, 0.3));\n",
              "      fill: #FFFFFF;\n",
              "    }\n",
              "  </style>\n",
              "\n",
              "      <script>\n",
              "        const buttonEl =\n",
              "          document.querySelector('#df-a06adfb9-e46d-4bf6-9aaa-e4cfcd8edd52 button.colab-df-convert');\n",
              "        buttonEl.style.display =\n",
              "          google.colab.kernel.accessAllowed ? 'block' : 'none';\n",
              "\n",
              "        async function convertToInteractive(key) {\n",
              "          const element = document.querySelector('#df-a06adfb9-e46d-4bf6-9aaa-e4cfcd8edd52');\n",
              "          const dataTable =\n",
              "            await google.colab.kernel.invokeFunction('convertToInteractive',\n",
              "                                                     [key], {});\n",
              "          if (!dataTable) return;\n",
              "\n",
              "          const docLinkHtml = 'Like what you see? Visit the ' +\n",
              "            '<a target=\"_blank\" href=https://colab.research.google.com/notebooks/data_table.ipynb>data table notebook</a>'\n",
              "            + ' to learn more about interactive tables.';\n",
              "          element.innerHTML = '';\n",
              "          dataTable['output_type'] = 'display_data';\n",
              "          await google.colab.output.renderOutput(dataTable, element);\n",
              "          const docLink = document.createElement('div');\n",
              "          docLink.innerHTML = docLinkHtml;\n",
              "          element.appendChild(docLink);\n",
              "        }\n",
              "      </script>\n",
              "    </div>\n",
              "  </div>\n",
              "  "
            ]
          },
          "metadata": {},
          "execution_count": 52
        }
      ]
    },
    {
      "cell_type": "code",
      "source": [
        "X = df['A']\n",
        "Y = df['label']\n",
        "\n",
        "X = X.to_numpy()\n",
        "bias = np.ones(X.shape)\n",
        "X = np.stack((X, bias), axis = 1)\n",
        "Y = Y.to_numpy()\n",
        "X"
      ],
      "metadata": {
        "colab": {
          "base_uri": "https://localhost:8080/"
        },
        "id": "x8E17vnBBm3I",
        "outputId": "0b0fb4d5-632a-4f27-def5-255ba8fac604"
      },
      "execution_count": null,
      "outputs": [
        {
          "output_type": "execute_result",
          "data": {
            "text/plain": [
              "array([[-284.68556778,    1.        ],\n",
              "       [-428.48000451,    1.        ],\n",
              "       [ -25.80087866,    1.        ],\n",
              "       ...,\n",
              "       [-254.691431  ,    1.        ],\n",
              "       [ 710.05426191,    1.        ],\n",
              "       [-269.82140692,    1.        ]])"
            ]
          },
          "metadata": {},
          "execution_count": 6
        }
      ]
    },
    {
      "cell_type": "code",
      "source": [
        "plt.scatter(X[:, 0], Y)"
      ],
      "metadata": {
        "colab": {
          "base_uri": "https://localhost:8080/",
          "height": 282
        },
        "id": "9N6alSU0C0N2",
        "outputId": "327b3f4b-75a2-40f5-b0bf-6450c7d8ac78"
      },
      "execution_count": null,
      "outputs": [
        {
          "output_type": "execute_result",
          "data": {
            "text/plain": [
              "<matplotlib.collections.PathCollection at 0x7f72084c9d30>"
            ]
          },
          "metadata": {},
          "execution_count": 7
        },
        {
          "output_type": "display_data",
          "data": {
            "text/plain": [
              "<Figure size 432x288 with 1 Axes>"
            ],
            "image/png": "[encoded data removed]"
          },
          "metadata": {
            "needs_background": "light"
          }
        }
      ]
    },
    {
      "cell_type": "code",
      "source": [
        "from sklearn.linear_model import LinearRegression\n",
        "model = LinearRegression()\n",
        "model.fit(X, Y)"
      ],
      "metadata": {
        "colab": {
          "base_uri": "https://localhost:8080/"
        },
        "id": "LLCoHzTWC5Ke",
        "outputId": "afc98eef-0ed2-434a-ee4f-797255b0951d"
      },
      "execution_count": null,
      "outputs": [
        {
          "output_type": "execute_result",
          "data": {
            "text/plain": [
              "LinearRegression()"
            ]
          },
          "metadata": {},
          "execution_count": 8
        }
      ]
    },
    {
      "cell_type": "code",
      "source": [
        "model.predict([[1, 1], [2, 1], [3, 1]])"
      ],
      "metadata": {
        "colab": {
          "base_uri": "https://localhost:8080/"
        },
        "id": "tA22EXGkDGpv",
        "outputId": "0c1bff8a-1f26-4517-f61d-85905719a902"
      },
      "execution_count": null,
      "outputs": [
        {
          "output_type": "execute_result",
          "data": {
            "text/plain": [
              "array([-0.17481144,  0.07433781,  0.32348705])"
            ]
          },
          "metadata": {},
          "execution_count": 9
        }
      ]
    },
    {
      "cell_type": "code",
      "source": [
        "plt.scatter(X[:, 0], Y,)\n",
        "plt.plot(X[:, 0], model.predict(X), color = 'red')"
      ],
      "metadata": {
        "colab": {
          "base_uri": "https://localhost:8080/",
          "height": 283
        },
        "id": "V-H3Vr9bId5g",
        "outputId": "2fe51850-6cff-4747-d798-7e0e97942f91"
      },
      "execution_count": null,
      "outputs": [
        {
          "output_type": "execute_result",
          "data": {
            "text/plain": [
              "[<matplotlib.lines.Line2D at 0x7fd8585227c0>]"
            ]
          },
          "metadata": {},
          "execution_count": 89
        },
        {
          "output_type": "display_data",
          "data": {
            "text/plain": [
              "<Figure size 432x288 with 1 Axes>"
            ],
            "image/png": "[encoded data removed]"
          },
          "metadata": {
            "needs_background": "light"
          }
        }
      ]
    },
    {
      "cell_type": "markdown",
      "source": [
        "- fit(X, Y) -> [w, b], predict(X) -> prediction"
      ],
      "metadata": {
        "id": "CAkBCvaKNBZP"
      }
    },
    {
      "cell_type": "code",
      "source": [
        "class linearRegression:\n",
        "\n",
        "  def __init__(self, parameters, learningRate):\n",
        "    self.parameters = parameters\n",
        "    self.learningRate = learningRate\n",
        "\n",
        "  def predict(self, X):\n",
        "    bias = np.ones((X.shape[0], 1))\n",
        "    X = np.concatenate((X, bias), axis = 1)\n",
        "\n",
        "    res = []\n",
        "    for i in range(X.shape[0]):\n",
        "      res.append(np.dot(X[i, :], self.parameters))\n",
        "\n",
        "    return np.array(res)\n",
        "\n",
        "\n",
        "  def costFunction(self, X, Y):\n",
        "    J = np.sum(np.square(model.predict(X) - Y)) * 0.5 / Y.shape[0]\n",
        "    return J\n",
        "\n",
        "  def dJ(self, X, Y):\n",
        "    dj = []\n",
        "    for i in range(X.shape[1]):\n",
        "      dj.append(np.dot(self.predict(X) - Y, X[:, i])/Y.shape[0])\n",
        "    \n",
        "    dj.append(np.sum(self.predict(X) - Y)/Y.shape[0])\n",
        "\n",
        "    return np.array(dj)\n",
        "\n",
        "  def gradientDescent(self, X, Y):\n",
        "    self.parameters = self.parameters - self.learningRate * self.dJ(X, Y)\n",
        "\n",
        "  def fit(self, X, Y, iter = 5):          #X, Y should be numpy values\n",
        "    for i in range(iter):\n",
        "      self.gradientDescent(X, Y)\n",
        "\n",
        "    return self.parameters"
      ],
      "metadata": {
        "id": "bMbaptlOLzJm"
      },
      "execution_count": null,
      "outputs": []
    },
    {
      "cell_type": "code",
      "source": [
        "model = linearRegression(np.array([0, 0]), 0.05)\n",
        "X = np.array([[1], [2], [3], [4], [5]])\n",
        "Y = 2 * np.array([1, 2, 3, 4, 5])\n",
        "\n",
        "model.fit(X, Y, 10000)"
      ],
      "metadata": {
        "colab": {
          "base_uri": "https://localhost:8080/"
        },
        "id": "fdPnQWINPUEd",
        "outputId": "e15bf313-0d33-4fc8-8f07-dadb93a2cbd9"
      },
      "execution_count": null,
      "outputs": [
        {
          "output_type": "execute_result",
          "data": {
            "text/plain": [
              "array([2.00000000e+00, 2.66102264e-15])"
            ]
          },
          "metadata": {},
          "execution_count": 11
        }
      ]
    },
    {
      "cell_type": "code",
      "source": [
        "model.costFunction(X, Y)"
      ],
      "metadata": {
        "colab": {
          "base_uri": "https://localhost:8080/"
        },
        "id": "FJ-7PBwdPaTk",
        "outputId": "21cf2237-20f2-4f56-f477-f57a76dfad3c"
      },
      "execution_count": null,
      "outputs": [
        {
          "output_type": "execute_result",
          "data": {
            "text/plain": [
              "7.888609052210118e-31"
            ]
          },
          "metadata": {},
          "execution_count": 12
        }
      ]
    },
    {
      "cell_type": "code",
      "source": [
        "x = np.array([[1], [2], [3]])\n",
        "x * 0.5"
      ],
      "metadata": {
        "colab": {
          "base_uri": "https://localhost:8080/"
        },
        "id": "trVhQ_YgPfCg",
        "outputId": "accdf2d2-ef06-4301-c42e-f4477e20c60f"
      },
      "execution_count": null,
      "outputs": [
        {
          "output_type": "execute_result",
          "data": {
            "text/plain": [
              "array([[0.5],\n",
              "       [1. ],\n",
              "       [1.5]])"
            ]
          },
          "metadata": {},
          "execution_count": 13
        }
      ]
    },
    {
      "cell_type": "code",
      "source": [],
      "metadata": {
        "colab": {
          "base_uri": "https://localhost:8080/"
        },
        "id": "0v1VwuQVVE7f",
        "outputId": "e5da0ec8-4f7b-4f6d-9c12-04dd2c1ccd22"
      },
      "execution_count": null,
      "outputs": [
        {
          "output_type": "execute_result",
          "data": {
            "text/plain": [
              "array([[1., 1.],\n",
              "       [2., 1.],\n",
              "       [3., 1.]])"
            ]
          },
          "metadata": {},
          "execution_count": 113
        }
      ]
    },
    {
      "cell_type": "code",
      "source": [
        "model.parameters"
      ],
      "metadata": {
        "colab": {
          "base_uri": "https://localhost:8080/"
        },
        "id": "7ryIlmEqVP4l",
        "outputId": "8d00f4f1-aa35-4635-eeb9-19964d61d12d"
      },
      "execution_count": null,
      "outputs": [
        {
          "output_type": "execute_result",
          "data": {
            "text/plain": [
              "array([0, 0])"
            ]
          },
          "metadata": {},
          "execution_count": 111
        }
      ]
    },
    {
      "cell_type": "code",
      "source": [
        "res = []\n",
        "for i in range(x.shape[0]):\n",
        "  res.append(np.dot(x[i, :], model.parameters))\n",
        "res"
      ],
      "metadata": {
        "colab": {
          "base_uri": "https://localhost:8080/",
          "height": 252
        },
        "id": "6bACwDwLWCyc",
        "outputId": "376d7527-7d77-4864-a459-df3e0dce71be"
      },
      "execution_count": null,
      "outputs": [
        {
          "output_type": "error",
          "ename": "ValueError",
          "evalue": "ignored",
          "traceback": [
            "\u001b[0;31m---------------------------------------------------------------------------\u001b[0m",
            "\u001b[0;31mValueError\u001b[0m                                Traceback (most recent call last)",
            "\u001b[0;32m<ipython-input-14-d56812e0a94b>\u001b[0m in \u001b[0;36m<module>\u001b[0;34m\u001b[0m\n\u001b[1;32m      1\u001b[0m \u001b[0mres\u001b[0m \u001b[0;34m=\u001b[0m \u001b[0;34m[\u001b[0m\u001b[0;34m]\u001b[0m\u001b[0;34m\u001b[0m\u001b[0;34m\u001b[0m\u001b[0m\n\u001b[1;32m      2\u001b[0m \u001b[0;32mfor\u001b[0m \u001b[0mi\u001b[0m \u001b[0;32min\u001b[0m \u001b[0mrange\u001b[0m\u001b[0;34m(\u001b[0m\u001b[0mx\u001b[0m\u001b[0;34m.\u001b[0m\u001b[0mshape\u001b[0m\u001b[0;34m[\u001b[0m\u001b[0;36m0\u001b[0m\u001b[0;34m]\u001b[0m\u001b[0;34m)\u001b[0m\u001b[0;34m:\u001b[0m\u001b[0;34m\u001b[0m\u001b[0;34m\u001b[0m\u001b[0m\n\u001b[0;32m----> 3\u001b[0;31m   \u001b[0mres\u001b[0m\u001b[0;34m.\u001b[0m\u001b[0mappend\u001b[0m\u001b[0;34m(\u001b[0m\u001b[0mnp\u001b[0m\u001b[0;34m.\u001b[0m\u001b[0mdot\u001b[0m\u001b[0;34m(\u001b[0m\u001b[0mx\u001b[0m\u001b[0;34m[\u001b[0m\u001b[0mi\u001b[0m\u001b[0;34m,\u001b[0m \u001b[0;34m:\u001b[0m\u001b[0;34m]\u001b[0m\u001b[0;34m,\u001b[0m \u001b[0mmodel\u001b[0m\u001b[0;34m.\u001b[0m\u001b[0mparameters\u001b[0m\u001b[0;34m)\u001b[0m\u001b[0;34m)\u001b[0m\u001b[0;34m\u001b[0m\u001b[0;34m\u001b[0m\u001b[0m\n\u001b[0m\u001b[1;32m      4\u001b[0m \u001b[0mres\u001b[0m\u001b[0;34m\u001b[0m\u001b[0;34m\u001b[0m\u001b[0m\n",
            "\u001b[0;32m/usr/local/lib/python3.8/dist-packages/numpy/core/overrides.py\u001b[0m in \u001b[0;36mdot\u001b[0;34m(*args, **kwargs)\u001b[0m\n",
            "\u001b[0;31mValueError\u001b[0m: shapes (1,) and (2,) not aligned: 1 (dim 0) != 2 (dim 0)"
          ]
        }
      ]
    },
    {
      "cell_type": "code",
      "source": [
        "model = linearRegression(np.array([0, 0]), 0.05)\n",
        "X = df['A']\n",
        "Y = df['label']\n",
        "X = X.to_numpy()\n",
        "Y = Y.to_numpy()\n",
        "\n",
        "X = X.reshape((X.shape[0], 1))\n",
        "X = X[0:100, :]\n",
        "Y = Y.reshape((Y.shape"
      ],
      "metadata": {
        "id": "JdtaiBySWzH3",
        "colab": {
          "base_uri": "https://localhost:8080/",
          "height": 130
        },
        "outputId": "56652187-f64e-47dd-a540-dfa7f75889c5"
      },
      "execution_count": null,
      "outputs": [
        {
          "output_type": "error",
          "ename": "SyntaxError",
          "evalue": "ignored",
          "traceback": [
            "\u001b[0;36m  File \u001b[0;32m\"<ipython-input-15-2ba4946bbfec>\"\u001b[0;36m, line \u001b[0;32m9\u001b[0m\n\u001b[0;31m    Y = Y.reshape((Y.shape\u001b[0m\n\u001b[0m                          ^\u001b[0m\n\u001b[0;31mSyntaxError\u001b[0m\u001b[0;31m:\u001b[0m unexpected EOF while parsing\n"
          ]
        }
      ]
    },
    {
      "cell_type": "markdown",
      "source": [
        "- Final"
      ],
      "metadata": {
        "id": "hi4lhc705l7h"
      }
    },
    {
      "cell_type": "code",
      "source": [
        "import numpy as np\n",
        "import matplotlib.pyplot as plt\n",
        "import pandas as pd\n",
        "from tqdm import tqdm"
      ],
      "metadata": {
        "id": "3VVV4fJhk1Vr"
      },
      "execution_count": null,
      "outputs": []
    },
    {
      "cell_type": "code",
      "source": [
        "class linearRegression:\n",
        "\n",
        "  def __init__(self, parameters, learningRate):\n",
        "    self.parameters = parameters\n",
        "    self.learningRate = learningRate\n",
        "    \n",
        "    # self.Y_mu = Y_mu\n",
        "    # self.Y_sigma = Y_sigma\n",
        "\n",
        "  def predict(self, X, Y): #yaha par woh 4 parameters tha\n",
        "    # X = (X - X_mu)/X_sigma\n",
        "\n",
        "\n",
        "    # xmax=X.max\n",
        "    \n",
        "    # X = X/xmax\n",
        "\n",
        "    # ymax=max(Y)\n",
        "\n",
        "    bias = np.ones((X.shape[0], 1))\n",
        "    X = np.concatenate((X, bias), axis = 1)\n",
        "\n",
        "    res = []\n",
        "    for i in range(X.shape[0]):\n",
        "      res.append(np.dot(X[i, :], self.parameters))\n",
        "\n",
        "    res = np.array(res)\n",
        "\n",
        "    return res\n",
        "    #return res * Y_sigma + Y_mu * np.ones(res.shape)\n",
        "    \n",
        "    # return res * ymax\n",
        "\n",
        "  def costFunction(self, X, Y):\n",
        "    J = np.sum(np.square(model.predict(X, Y) - Y)) * 0.5 / Y.shape[0]\n",
        "    return J\n",
        "\n",
        "  def dJ(self, X, Y):\n",
        "    dj = []\n",
        "    for i in range(X.shape[1]):\n",
        "      dj.append(np.dot(self.predict(X, Y) - Y, X[:, i])/X.shape[0])\n",
        "    \n",
        "    dj.append(np.sum(self.predict(X, Y) - Y)/X.shape[0])\n",
        "\n",
        "    return np.array(dj)\n",
        "\n",
        "  def gradientDescent(self, X, Y):\n",
        "    self.parameters = self.parameters - self.learningRate * self.dJ(X, Y)\n",
        "\n",
        "  def fit(self, X, Y, iter = 5):          #X, Y should be numpy values\n",
        "    for i in tqdm(range(iter)):\n",
        "      self.gradientDescent(X, Y)\n",
        "      # print(self.costFunction(X, Y))\n",
        "\n",
        "    \n",
        "    return self.parameters"
      ],
      "metadata": {
        "id": "RqcY47h455XX"
      },
      "execution_count": null,
      "outputs": []
    },
    {
      "cell_type": "code",
      "source": [
        "dfRaw = pd.read_csv('/content/drive/MyDrive/cyberlab/linear_train.csv')\n",
        "\n",
        "#mu = dfRaw.mean().to_numpy()\n",
        "#sigma = dfRaw.std().to_numpy()\n",
        "\n",
        "#Y_mu = mu[21]\n",
        "#Y_sigma = sigma[21]\n",
        "\n",
        "#x_mu = mu[1:21]\n",
        "#x_sigma = sigma[1:21]\n",
        "\n",
        "df = (dfRaw - dfRaw.mean())/dfRaw.std()\n",
        "# df = dfRaw\n",
        "\n",
        "Y = df['label'].to_numpy()\n",
        "df = df.drop(labels = ['Unnamed: 0', 'label'], axis = 1)\n",
        "X = df.to_numpy()\n",
        "\n",
        "# X = X[0: 50, :]\n",
        "# Y = Y[0: 50]\n",
        "\n",
        "parameters = np.random.rand((X.shape[1] + 1))\n",
        "model = linearRegression(parameters, 0.5)\n",
        "parameters = model.fit(X, Y, 100)\n",
        "#model.predict(np.array(X[0]),Y)"
      ],
      "metadata": {
        "id": "ejOtt3cplPzJ",
        "colab": {
          "base_uri": "https://localhost:8080/"
        },
        "outputId": "dc6b2a3d-ffb7-439d-b4af-2aff62bd24f0"
      },
      "execution_count": null,
      "outputs": [
        {
          "output_type": "stream",
          "name": "stderr",
          "text": [
            "100%|██████████| 100/100 [09:39<00:00,  5.79s/it]\n"
          ]
        }
      ]
    },
    {
      "cell_type": "code",
      "source": [
        "model.predict(X[0: 5, :], Y[0: 5]), Y[0: 5]"
      ],
      "metadata": {
        "colab": {
          "base_uri": "https://localhost:8080/"
        },
        "id": "a-wvjXho3H1G",
        "outputId": "47b432b0-1e06-4b60-9409-2f2bafc04eab"
      },
      "execution_count": null,
      "outputs": [
        {
          "output_type": "execute_result",
          "data": {
            "text/plain": [
              "(array([-0.76244462, -0.01388153,  1.95791839,  0.05893877, -0.37528845]),\n",
              " array([-0.88330336,  0.62704225,  1.60392427, -0.33914267, -0.48811748]))"
            ]
          },
          "metadata": {},
          "execution_count": 79
        }
      ]
    },
    {
      "cell_type": "code",
      "source": [
        "y_mu = Y.mean()\n",
        "y_sigma = Y.std()\n",
        "\n",
        "model.predict(X[0: 5], Y[0: 5]) * Y_sigma + Y_mu"
      ],
      "metadata": {
        "colab": {
          "base_uri": "https://localhost:8080/"
        },
        "id": "uZPXy9dgg3aj",
        "outputId": "64bd8fac-c47b-4721-d908-53c352414978"
      },
      "execution_count": null,
      "outputs": [
        {
          "output_type": "execute_result",
          "data": {
            "text/plain": [
              "array([-188.21969822,   -3.7721852 ,  482.05368784,   14.14438264,\n",
              "        -92.84932498])"
            ]
          },
          "metadata": {},
          "execution_count": 86
        }
      ]
    },
    {
      "cell_type": "code",
      "source": [
        "model.predict(X[0: 5, :], Y[0: 5]), Y[0: 5]"
      ],
      "metadata": {
        "colab": {
          "base_uri": "https://localhost:8080/"
        },
        "id": "6NLJnVCrqOWX",
        "outputId": "975d2caf-7a28-4c12-9b76-92b8553aae80"
      },
      "execution_count": null,
      "outputs": [
        {
          "output_type": "execute_result",
          "data": {
            "text/plain": [
              "(array([-0.76237845, -0.01382493,  1.95782902,  0.05888687, -0.3753316 ]),\n",
              " array([-0.88330336,  0.62704225,  1.60392427, -0.33914267, -0.48811748]))"
            ]
          },
          "metadata": {},
          "execution_count": 87
        }
      ]
    },
    {
      "cell_type": "code",
      "source": [
        "X = np.array([[1, 2, 9], [2, 3, 7], [3, 4, 9], [4, 5, 7], [5, 5, 5]])\n",
        "Y = np.array([22, 25, 32, 35, 35])\n",
        "\n",
        "model = linearRegression(np.array([1, 2, 3, 5]), 0.005)\n",
        "\n",
        "# print(f\"Parameters: {model.parameters}\")\n",
        "# print(f\"Learning Rate: {model.learningRate}\")\n",
        "# print(f\"Predict: {model.predict(X)}\")\n",
        "# print(f\"dJ: {model.dJ(X, Y)}\")\n",
        "# print(f\"gradientDescent: {model.gradientDescent(X, Y)}\")\n",
        "\n",
        "model.fit(X, Y, 70)"
      ],
      "metadata": {
        "colab": {
          "base_uri": "https://localhost:8080/"
        },
        "id": "dfZ9cHd3lew6",
        "outputId": "dce69ed5-8943-4670-ff3e-67b3c58f3dfe"
      },
      "execution_count": null,
      "outputs": [
        {
          "output_type": "stream",
          "name": "stdout",
          "text": [
            "196064511560.63974\n",
            "1.2214363180400266e+17\n",
            "7.609264253470007e+22\n",
            "4.740394699581798e+28\n",
            "2.9531556743578377e+34\n",
            "1.8397473184587934e+40\n",
            "1.146119801663458e+46\n",
            "7.14005986901242e+51\n",
            "4.448091277987655e+57\n",
            "2.7710574393329962e+63\n",
            "1.72630435217972e+69\n",
            "1.0754474714432374e+75\n",
            "6.699787684444443e+80\n",
            "4.173811944194299e+86\n",
            "2.6001877919126248e+92\n",
            "1.6198565348915288e+98\n",
            "1.0091329563933913e+104\n",
            "6.286663675110329e+109\n",
            "3.9164452923232794e+115\n",
            "2.4398543520768173e+121\n",
            "1.519972529941014e+127\n",
            "9.469075438083967e+132\n",
            "5.899013823335653e+138\n",
            "3.674948448287621e+144\n",
            "2.2894074335182577e+150\n",
            "1.4262475978651974e+156\n",
            "8.885190904138049e+161\n",
            "5.535267335148858e+167\n",
            "3.448342843967092e+173\n",
            "2.1482374110516693e+179\n",
            "1.338301956348636e+185\n",
            "8.337310006577799e+190\n",
            "5.19395027527512e+196\n",
            "3.2357102519573625e+202\n",
            "2.0157722503547458e+208\n",
            "1.2557792413094533e+214\n",
            "7.823212680034765e+219\n",
            "4.8736795946107656e+225\n",
            "3.0361890648254497e+231\n",
            "1.8914751900308015e+237\n",
            "1.1783450628782693e+243\n",
            "7.340815753374919e+248\n",
            "4.5731575259771165e+254\n",
            "2.848970803794675e+260\n",
            "1.774842566600687e+266\n",
            "1.1056856504187402e+272\n",
            "6.888164508491666e+277\n",
            "4.291166325444798e+283\n",
            "2.673296842711969e+289\n",
            "1.6654017736105846e+295\n",
            "1.0375065810991624e+301\n",
            "6.463424759602594e+306\n",
            "inf\n",
            "inf\n",
            "inf\n",
            "inf\n",
            "inf\n",
            "inf\n",
            "inf\n",
            "inf\n",
            "inf\n",
            "inf\n",
            "inf\n",
            "inf\n",
            "inf\n",
            "inf\n",
            "inf\n",
            "inf\n",
            "inf\n",
            "inf\n"
          ]
        },
        {
          "output_type": "stream",
          "name": "stderr",
          "text": [
            "<ipython-input-20-866585bde301>:19: RuntimeWarning: overflow encountered in square\n",
            "  J = np.sum(np.square(model.predict(X) - Y)) * 0.5 / Y.shape[0]\n"
          ]
        },
        {
          "output_type": "execute_result",
          "data": {
            "text/plain": [
              "array([1.05143735e+201, 1.27792575e+203, 2.18393825e+201, 3.07361079e+200])"
            ]
          },
          "metadata": {},
          "execution_count": 35
        }
      ]
    },
    {
      "cell_type": "code",
      "source": [
        "dfRaw.describe()"
      ],
      "metadata": {
        "colab": {
          "base_uri": "https://localhost:8080/",
          "height": 390
        },
        "id": "gDMMKC_3lsvY",
        "outputId": "10f82c2a-a5c4-427a-b22f-f29c2784ff30"
      },
      "execution_count": null,
      "outputs": [
        {
          "output_type": "execute_result",
          "data": {
            "text/plain": [
              "         Unnamed: 0             A             B             C             D  \\\n",
              "count  50000.000000  50000.000000  50000.000000  50000.000000  50000.000000   \n",
              "mean   24999.500000      0.234036    250.032231     -0.043196      0.000344   \n",
              "std    14433.901067    285.713891     28.598415     28.596652      0.215329   \n",
              "min        0.000000  -1275.133865    139.253653   -114.415607     -0.892349   \n",
              "25%    12499.750000   -193.259466    230.766727    -19.168799     -0.145591   \n",
              "50%    24999.500000      0.059497    250.176527      0.025505     -0.000804   \n",
              "75%    37499.250000    193.460359    269.501548     19.359475      0.145529   \n",
              "max    49999.000000   1186.644980    374.722263    111.582927      0.841337   \n",
              "\n",
              "                  E             F             G             H             I  \\\n",
              "count  50000.000000  50000.000000  50000.000000  50000.000000  50000.000000   \n",
              "mean      -0.138673     22.942050     63.183671     -0.265300   -149.202551   \n",
              "std       28.612768     14.382952     28.504422     28.661015    286.684254   \n",
              "min     -132.697679    -36.177565    -46.802955   -137.983886  -1265.689515   \n",
              "25%      -19.365933     13.194655     44.033199    -19.735327   -341.661814   \n",
              "50%       -0.024488     22.840589     63.255555     -0.411770   -150.646574   \n",
              "75%       19.089040     32.641552     82.365940     19.008288     44.603651   \n",
              "max      127.973836     84.284183    177.470797    112.107814    958.061965   \n",
              "\n",
              "       ...             L             M             N             O  \\\n",
              "count  ...  50000.000000  50000.000000  50000.000000  50000.000000   \n",
              "mean   ...     -0.307216      0.036604     -2.009511  -1986.100476   \n",
              "std    ...     28.621340     28.642504    570.633593     28.531680   \n",
              "min    ...   -114.116214   -127.588682  -2522.962140  -2112.148107   \n",
              "25%    ...    -19.506051    -19.201002   -386.661131  -2005.333057   \n",
              "50%    ...     -0.347854      0.080235      0.512543  -1985.974373   \n",
              "75%    ...     18.973515     19.385837    383.129776  -1966.843511   \n",
              "max    ...    114.168708    131.896684   2279.968853  -1872.001557   \n",
              "\n",
              "                  P             Q             R             S             T  \\\n",
              "count  50000.000000  50000.000000  50000.000000  50000.000000  50000.000000   \n",
              "mean       0.024010    764.892736      0.099609     63.015279    789.092996   \n",
              "std       28.693994     28.686856     28.568842    142.545457     28.474483   \n",
              "min     -122.862152    648.803028   -122.725457   -552.138988    668.221949   \n",
              "25%      -19.449297    745.523084    -19.104441    -33.195948    769.894348   \n",
              "50%        0.020038    765.043604      0.129850     63.317078    789.112656   \n",
              "75%       19.464868    784.169033     19.366536    159.625909    808.184537   \n",
              "max      131.750204    875.580472    118.396997    626.430349    903.761618   \n",
              "\n",
              "              label  \n",
              "count  50000.000000  \n",
              "mean      -0.365651  \n",
              "std      246.405245  \n",
              "min     -967.232274  \n",
              "25%     -166.951079  \n",
              "50%       -0.021428  \n",
              "75%      167.628421  \n",
              "max     1069.795054  \n",
              "\n",
              "[8 rows x 22 columns]"
            ],
            "text/html": [
              "\n",
              "  <div id=\"df-2652e037-ad5c-4568-986d-8995c11c818d\">\n",
              "    <div class=\"colab-df-container\">\n",
              "      <div>\n",
              "<style scoped>\n",
              "    .dataframe tbody tr th:only-of-type {\n",
              "        vertical-align: middle;\n",
              "    }\n",
              "\n",
              "    .dataframe tbody tr th {\n",
              "        vertical-align: top;\n",
              "    }\n",
              "\n",
              "    .dataframe thead th {\n",
              "        text-align: right;\n",
              "    }\n",
              "</style>\n",
              "<table border=\"1\" class=\"dataframe\">\n",
              "  <thead>\n",
              "    <tr style=\"text-align: right;\">\n",
              "      <th></th>\n",
              "      <th>Unnamed: 0</th>\n",
              "      <th>A</th>\n",
              "      <th>B</th>\n",
              "      <th>C</th>\n",
              "      <th>D</th>\n",
              "      <th>E</th>\n",
              "      <th>F</th>\n",
              "      <th>G</th>\n",
              "      <th>H</th>\n",
              "      <th>I</th>\n",
              "      <th>...</th>\n",
              "      <th>L</th>\n",
              "      <th>M</th>\n",
              "      <th>N</th>\n",
              "      <th>O</th>\n",
              "      <th>P</th>\n",
              "      <th>Q</th>\n",
              "      <th>R</th>\n",
              "      <th>S</th>\n",
              "      <th>T</th>\n",
              "      <th>label</th>\n",
              "    </tr>\n",
              "  </thead>\n",
              "  <tbody>\n",
              "    <tr>\n",
              "      <th>count</th>\n",
              "      <td>50000.000000</td>\n",
              "      <td>50000.000000</td>\n",
              "      <td>50000.000000</td>\n",
              "      <td>50000.000000</td>\n",
              "      <td>50000.000000</td>\n",
              "      <td>50000.000000</td>\n",
              "      <td>50000.000000</td>\n",
              "      <td>50000.000000</td>\n",
              "      <td>50000.000000</td>\n",
              "      <td>50000.000000</td>\n",
              "      <td>...</td>\n",
              "      <td>50000.000000</td>\n",
              "      <td>50000.000000</td>\n",
              "      <td>50000.000000</td>\n",
              "      <td>50000.000000</td>\n",
              "      <td>50000.000000</td>\n",
              "      <td>50000.000000</td>\n",
              "      <td>50000.000000</td>\n",
              "      <td>50000.000000</td>\n",
              "      <td>50000.000000</td>\n",
              "      <td>50000.000000</td>\n",
              "    </tr>\n",
              "    <tr>\n",
              "      <th>mean</th>\n",
              "      <td>24999.500000</td>\n",
              "      <td>0.234036</td>\n",
              "      <td>250.032231</td>\n",
              "      <td>-0.043196</td>\n",
              "      <td>0.000344</td>\n",
              "      <td>-0.138673</td>\n",
              "      <td>22.942050</td>\n",
              "      <td>63.183671</td>\n",
              "      <td>-0.265300</td>\n",
              "      <td>-149.202551</td>\n",
              "      <td>...</td>\n",
              "      <td>-0.307216</td>\n",
              "      <td>0.036604</td>\n",
              "      <td>-2.009511</td>\n",
              "      <td>-1986.100476</td>\n",
              "      <td>0.024010</td>\n",
              "      <td>764.892736</td>\n",
              "      <td>0.099609</td>\n",
              "      <td>63.015279</td>\n",
              "      <td>789.092996</td>\n",
              "      <td>-0.365651</td>\n",
              "    </tr>\n",
              "    <tr>\n",
              "      <th>std</th>\n",
              "      <td>14433.901067</td>\n",
              "      <td>285.713891</td>\n",
              "      <td>28.598415</td>\n",
              "      <td>28.596652</td>\n",
              "      <td>0.215329</td>\n",
              "      <td>28.612768</td>\n",
              "      <td>14.382952</td>\n",
              "      <td>28.504422</td>\n",
              "      <td>28.661015</td>\n",
              "      <td>286.684254</td>\n",
              "      <td>...</td>\n",
              "      <td>28.621340</td>\n",
              "      <td>28.642504</td>\n",
              "      <td>570.633593</td>\n",
              "      <td>28.531680</td>\n",
              "      <td>28.693994</td>\n",
              "      <td>28.686856</td>\n",
              "      <td>28.568842</td>\n",
              "      <td>142.545457</td>\n",
              "      <td>28.474483</td>\n",
              "      <td>246.405245</td>\n",
              "    </tr>\n",
              "    <tr>\n",
              "      <th>min</th>\n",
              "      <td>0.000000</td>\n",
              "      <td>-1275.133865</td>\n",
              "      <td>139.253653</td>\n",
              "      <td>-114.415607</td>\n",
              "      <td>-0.892349</td>\n",
              "      <td>-132.697679</td>\n",
              "      <td>-36.177565</td>\n",
              "      <td>-46.802955</td>\n",
              "      <td>-137.983886</td>\n",
              "      <td>-1265.689515</td>\n",
              "      <td>...</td>\n",
              "      <td>-114.116214</td>\n",
              "      <td>-127.588682</td>\n",
              "      <td>-2522.962140</td>\n",
              "      <td>-2112.148107</td>\n",
              "      <td>-122.862152</td>\n",
              "      <td>648.803028</td>\n",
              "      <td>-122.725457</td>\n",
              "      <td>-552.138988</td>\n",
              "      <td>668.221949</td>\n",
              "      <td>-967.232274</td>\n",
              "    </tr>\n",
              "    <tr>\n",
              "      <th>25%</th>\n",
              "      <td>12499.750000</td>\n",
              "      <td>-193.259466</td>\n",
              "      <td>230.766727</td>\n",
              "      <td>-19.168799</td>\n",
              "      <td>-0.145591</td>\n",
              "      <td>-19.365933</td>\n",
              "      <td>13.194655</td>\n",
              "      <td>44.033199</td>\n",
              "      <td>-19.735327</td>\n",
              "      <td>-341.661814</td>\n",
              "      <td>...</td>\n",
              "      <td>-19.506051</td>\n",
              "      <td>-19.201002</td>\n",
              "      <td>-386.661131</td>\n",
              "      <td>-2005.333057</td>\n",
              "      <td>-19.449297</td>\n",
              "      <td>745.523084</td>\n",
              "      <td>-19.104441</td>\n",
              "      <td>-33.195948</td>\n",
              "      <td>769.894348</td>\n",
              "      <td>-166.951079</td>\n",
              "    </tr>\n",
              "    <tr>\n",
              "      <th>50%</th>\n",
              "      <td>24999.500000</td>\n",
              "      <td>0.059497</td>\n",
              "      <td>250.176527</td>\n",
              "      <td>0.025505</td>\n",
              "      <td>-0.000804</td>\n",
              "      <td>-0.024488</td>\n",
              "      <td>22.840589</td>\n",
              "      <td>63.255555</td>\n",
              "      <td>-0.411770</td>\n",
              "      <td>-150.646574</td>\n",
              "      <td>...</td>\n",
              "      <td>-0.347854</td>\n",
              "      <td>0.080235</td>\n",
              "      <td>0.512543</td>\n",
              "      <td>-1985.974373</td>\n",
              "      <td>0.020038</td>\n",
              "      <td>765.043604</td>\n",
              "      <td>0.129850</td>\n",
              "      <td>63.317078</td>\n",
              "      <td>789.112656</td>\n",
              "      <td>-0.021428</td>\n",
              "    </tr>\n",
              "    <tr>\n",
              "      <th>75%</th>\n",
              "      <td>37499.250000</td>\n",
              "      <td>193.460359</td>\n",
              "      <td>269.501548</td>\n",
              "      <td>19.359475</td>\n",
              "      <td>0.145529</td>\n",
              "      <td>19.089040</td>\n",
              "      <td>32.641552</td>\n",
              "      <td>82.365940</td>\n",
              "      <td>19.008288</td>\n",
              "      <td>44.603651</td>\n",
              "      <td>...</td>\n",
              "      <td>18.973515</td>\n",
              "      <td>19.385837</td>\n",
              "      <td>383.129776</td>\n",
              "      <td>-1966.843511</td>\n",
              "      <td>19.464868</td>\n",
              "      <td>784.169033</td>\n",
              "      <td>19.366536</td>\n",
              "      <td>159.625909</td>\n",
              "      <td>808.184537</td>\n",
              "      <td>167.628421</td>\n",
              "    </tr>\n",
              "    <tr>\n",
              "      <th>max</th>\n",
              "      <td>49999.000000</td>\n",
              "      <td>1186.644980</td>\n",
              "      <td>374.722263</td>\n",
              "      <td>111.582927</td>\n",
              "      <td>0.841337</td>\n",
              "      <td>127.973836</td>\n",
              "      <td>84.284183</td>\n",
              "      <td>177.470797</td>\n",
              "      <td>112.107814</td>\n",
              "      <td>958.061965</td>\n",
              "      <td>...</td>\n",
              "      <td>114.168708</td>\n",
              "      <td>131.896684</td>\n",
              "      <td>2279.968853</td>\n",
              "      <td>-1872.001557</td>\n",
              "      <td>131.750204</td>\n",
              "      <td>875.580472</td>\n",
              "      <td>118.396997</td>\n",
              "      <td>626.430349</td>\n",
              "      <td>903.761618</td>\n",
              "      <td>1069.795054</td>\n",
              "    </tr>\n",
              "  </tbody>\n",
              "</table>\n",
              "<p>8 rows × 22 columns</p>\n",
              "</div>\n",
              "      <button class=\"colab-df-convert\" onclick=\"convertToInteractive('df-2652e037-ad5c-4568-986d-8995c11c818d')\"\n",
              "              title=\"Convert this dataframe to an interactive table.\"\n",
              "              style=\"display:none;\">\n",
              "        \n",
              "  <svg xmlns=\"http://www.w3.org/2000/svg\" height=\"24px\"viewBox=\"0 0 24 24\"\n",
              "       width=\"24px\">\n",
              "    <path d=\"M0 0h24v24H0V0z\" fill=\"none\"/>\n",
              "    <path d=\"M18.56 5.44l.94 2.06.94-2.06 2.06-.94-2.06-.94-.94-2.06-.94 2.06-2.06.94zm-11 1L8.5 8.5l.94-2.06 2.06-.94-2.06-.94L8.5 2.5l-.94 2.06-2.06.94zm10 10l.94 2.06.94-2.06 2.06-.94-2.06-.94-.94-2.06-.94 2.06-2.06.94z\"/><path d=\"M17.41 7.96l-1.37-1.37c-.4-.4-.92-.59-1.43-.59-.52 0-1.04.2-1.43.59L10.3 9.45l-7.72 7.72c-.78.78-.78 2.05 0 2.83L4 21.41c.39.39.9.59 1.41.59.51 0 1.02-.2 1.41-.59l7.78-7.78 2.81-2.81c.8-.78.8-2.07 0-2.86zM5.41 20L4 18.59l7.72-7.72 1.47 1.35L5.41 20z\"/>\n",
              "  </svg>\n",
              "      </button>\n",
              "      \n",
              "  <style>\n",
              "    .colab-df-container {\n",
              "      display:flex;\n",
              "      flex-wrap:wrap;\n",
              "      gap: 12px;\n",
              "    }\n",
              "\n",
              "    .colab-df-convert {\n",
              "      background-color: #E8F0FE;\n",
              "      border: none;\n",
              "      border-radius: 50%;\n",
              "      cursor: pointer;\n",
              "      display: none;\n",
              "      fill: #1967D2;\n",
              "      height: 32px;\n",
              "      padding: 0 0 0 0;\n",
              "      width: 32px;\n",
              "    }\n",
              "\n",
              "    .colab-df-convert:hover {\n",
              "      background-color: #E2EBFA;\n",
              "      box-shadow: 0px 1px 2px rgba(60, 64, 67, 0.3), 0px 1px 3px 1px rgba(60, 64, 67, 0.15);\n",
              "      fill: #174EA6;\n",
              "    }\n",
              "\n",
              "    [theme=dark] .colab-df-convert {\n",
              "      background-color: #3B4455;\n",
              "      fill: #D2E3FC;\n",
              "    }\n",
              "\n",
              "    [theme=dark] .colab-df-convert:hover {\n",
              "      background-color: #434B5C;\n",
              "      box-shadow: 0px 1px 3px 1px rgba(0, 0, 0, 0.15);\n",
              "      filter: drop-shadow(0px 1px 2px rgba(0, 0, 0, 0.3));\n",
              "      fill: #FFFFFF;\n",
              "    }\n",
              "  </style>\n",
              "\n",
              "      <script>\n",
              "        const buttonEl =\n",
              "          document.querySelector('#df-2652e037-ad5c-4568-986d-8995c11c818d button.colab-df-convert');\n",
              "        buttonEl.style.display =\n",
              "          google.colab.kernel.accessAllowed ? 'block' : 'none';\n",
              "\n",
              "        async function convertToInteractive(key) {\n",
              "          const element = document.querySelector('#df-2652e037-ad5c-4568-986d-8995c11c818d');\n",
              "          const dataTable =\n",
              "            await google.colab.kernel.invokeFunction('convertToInteractive',\n",
              "                                                     [key], {});\n",
              "          if (!dataTable) return;\n",
              "\n",
              "          const docLinkHtml = 'Like what you see? Visit the ' +\n",
              "            '<a target=\"_blank\" href=https://colab.research.google.com/notebooks/data_table.ipynb>data table notebook</a>'\n",
              "            + ' to learn more about interactive tables.';\n",
              "          element.innerHTML = '';\n",
              "          dataTable['output_type'] = 'display_data';\n",
              "          await google.colab.output.renderOutput(dataTable, element);\n",
              "          const docLink = document.createElement('div');\n",
              "          docLink.innerHTML = docLinkHtml;\n",
              "          element.appendChild(docLink);\n",
              "        }\n",
              "      </script>\n",
              "    </div>\n",
              "  </div>\n",
              "  "
            ]
          },
          "metadata": {},
          "execution_count": 85
        }
      ]
    },
    {
      "cell_type": "code",
      "source": [
        "dfRaw.head(0).to_numpy()"
      ],
      "metadata": {
        "id": "AhwLF-LBskxo",
        "colab": {
          "base_uri": "https://localhost:8080/"
        },
        "outputId": "9c3ddbde-44b2-4a0f-fb93-6fcb9b16a6cf"
      },
      "execution_count": null,
      "outputs": [
        {
          "output_type": "execute_result",
          "data": {
            "text/plain": [
              "array([], shape=(0, 22), dtype=float64)"
            ]
          },
          "metadata": {},
          "execution_count": 96
        }
      ]
    },
    {
      "cell_type": "code",
      "source": [
        "df.mean().to_numpy()"
      ],
      "metadata": {
        "colab": {
          "base_uri": "https://localhost:8080/"
        },
        "id": "UDSqdc5zL-xc",
        "outputId": "30f1f773-dc92-4645-f2a9-2d3958f43769"
      },
      "execution_count": null,
      "outputs": [
        {
          "output_type": "execute_result",
          "data": {
            "text/plain": [
              "array([ 2.34036238e-01,  2.50032231e+02, -4.31957007e-02,  3.44110749e-04,\n",
              "       -1.38673225e-01,  2.29420503e+01,  6.31836705e+01, -2.65299692e-01,\n",
              "       -1.49202551e+02,  1.56011787e+03,  1.30032571e+02, -3.07216356e-01,\n",
              "        3.66035238e-02, -2.00951067e+00, -1.98610048e+03,  2.40095359e-02,\n",
              "        7.64892736e+02,  9.96091861e-02,  6.30152786e+01,  7.89092996e+02])"
            ]
          },
          "metadata": {},
          "execution_count": 52
        }
      ]
    },
    {
      "cell_type": "code",
      "source": [
        "dfRaw.head(1).to_numpy()[0]"
      ],
      "metadata": {
        "colab": {
          "base_uri": "https://localhost:8080/"
        },
        "id": "w6Rk7nmogAK7",
        "outputId": "284888e0-18d2-4cbd-8460-f5b0d93dfa84"
      },
      "execution_count": null,
      "outputs": [
        {
          "output_type": "execute_result",
          "data": {
            "text/plain": [
              "array([ 0.00000000e+00, -2.84685568e+02,  2.84567363e+02,  1.84627063e+01,\n",
              "        1.23804349e-02, -5.23945804e+01, -9.42412935e-01,  6.74619000e+00,\n",
              "        1.95956259e+01,  5.54989342e+02,  1.56015074e+03,  7.24516543e+01,\n",
              "        3.34519920e+01, -9.17121371e+00,  5.28122484e+02, -1.95959388e+03,\n",
              "       -4.73485285e+01,  7.67129260e+02, -1.20010842e+01,  8.39780551e+01,\n",
              "        7.37317448e+02, -2.18016231e+02])"
            ]
          },
          "metadata": {},
          "execution_count": 73
        }
      ]
    },
    {
      "cell_type": "code",
      "source": [],
      "metadata": {
        "id": "aoJW3eo9laZe"
      },
      "execution_count": null,
      "outputs": []
    },
    {
      "cell_type": "code",
      "source": [],
      "metadata": {
        "id": "TexfF039IIJT"
      },
      "execution_count": null,
      "outputs": []
    },
    {
      "cell_type": "code",
      "source": [
        "type(y)"
      ],
      "metadata": {
        "id": "FlK8GDZeIICD",
        "colab": {
          "base_uri": "https://localhost:8080/"
        },
        "outputId": "16b2a29e-3678-4722-c075-2549afe92cf3"
      },
      "execution_count": null,
      "outputs": [
        {
          "output_type": "execute_result",
          "data": {
            "text/plain": [
              "array([[-218.01623149],\n",
              "       [ 154.14084898],\n",
              "       [ 394.84970115],\n",
              "       ...,\n",
              "       [  -3.44448897],\n",
              "       [ 445.35678148],\n",
              "       [-500.9246807 ]])"
            ]
          },
          "metadata": {},
          "execution_count": 10
        }
      ]
    },
    {
      "cell_type": "code",
      "source": [
        "print(y)"
      ],
      "metadata": {
        "colab": {
          "base_uri": "https://localhost:8080/"
        },
        "id": "A1iSIFtZujmo",
        "outputId": "59985cad-d155-4f5a-b9fe-30d94d4b077d"
      },
      "execution_count": null,
      "outputs": [
        {
          "output_type": "stream",
          "name": "stdout",
          "text": [
            "[[-218.01623149]\n",
            " [ 154.14084898]\n",
            " [ 394.84970115]\n",
            " ...\n",
            " [  -3.44448897]\n",
            " [ 445.35678148]\n",
            " [-500.9246807 ]]\n"
          ]
        }
      ]
    },
    {
      "cell_type": "code",
      "source": [
        "train_data[target].values"
      ],
      "metadata": {
        "colab": {
          "base_uri": "https://localhost:8080/"
        },
        "id": "WYP-hWqrurd-",
        "outputId": "5fc8cc44-8560-4189-f4eb-9b7b5737c795"
      },
      "execution_count": null,
      "outputs": [
        {
          "output_type": "execute_result",
          "data": {
            "text/plain": [
              "array([-218.01623149,  154.14084898,  394.84970115, ...,   -3.44448897,\n",
              "        445.35678148, -500.9246807 ])"
            ]
          },
          "metadata": {},
          "execution_count": 6
        }
      ]
    },
    {
      "cell_type": "code",
      "source": [],
      "metadata": {
        "id": "QS8rvIZzu2t9"
      },
      "execution_count": null,
      "outputs": []
    },
    {
      "cell_type": "code",
      "source": [],
      "metadata": {
        "id": "PtiXJ85O7gEH"
      },
      "execution_count": null,
      "outputs": []
    },
    {
      "cell_type": "code",
      "source": [],
      "metadata": {
        "id": "FrjbzmwA7h5v"
      },
      "execution_count": null,
      "outputs": []
    }
  ]
}